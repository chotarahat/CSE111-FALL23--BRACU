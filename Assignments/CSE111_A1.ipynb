{
  "nbformat": 4,
  "nbformat_minor": 0,
  "metadata": {
    "colab": {
      "provenance": []
    },
    "kernelspec": {
      "name": "python3",
      "display_name": "Python 3"
    },
    "language_info": {
      "name": "python"
    }
  },
  "cells": [
    {
      "cell_type": "markdown",
      "source": [
        "**STRING**"
      ],
      "metadata": {
        "id": "U-zhSRQfvbaF"
      }
    },
    {
      "cell_type": "markdown",
      "source": [
        "**TASK 1**"
      ],
      "metadata": {
        "id": "9kXeym5MvU6t"
      }
    },
    {
      "cell_type": "code",
      "execution_count": null,
      "metadata": {
        "colab": {
          "base_uri": "https://localhost:8080/"
        },
        "id": "nVBhX6wEfg1-",
        "outputId": "9766977c-b33e-4f44-d488-c84b39dda2e7"
      },
      "outputs": [
        {
          "output_type": "stream",
          "name": "stdout",
          "text": [
            "BaNaNa\n",
            "banana"
          ]
        }
      ],
      "source": [
        "st = input()\n",
        "count_upper = 0\n",
        "count_lower = 0\n",
        "\n",
        "for i in st:\n",
        "  if ord(i)>=65 and ord(i)<=90:\n",
        "    count_upper+=1\n",
        "  else:\n",
        "    count_lower+=1\n",
        "#print(count_upper)\n",
        "#print(count_lower)\n",
        "if count_upper>count_lower:\n",
        "  for i in st:\n",
        "    if ord(i)>=65 and ord(i)<=90:\n",
        "      print(i,end=\"\")\n",
        "    else:\n",
        "      print((chr(ord(i)-32)),end=\"\")\n",
        "\n",
        "if count_lower>=count_upper:\n",
        "  for i in st:\n",
        "    if ord(i)>=97 and ord(i)<=122:\n",
        "      print(i,end=\"\")\n",
        "    else:\n",
        "      print((chr(ord(i)+32)),end=\"\")\n"
      ]
    },
    {
      "cell_type": "code",
      "source": [
        "st = input()\n",
        "count_upper = 0\n",
        "count_lower = 0\n",
        "new_st=\"\"\n",
        "\n",
        "for i in st:\n",
        "  if ord(i)>=65 and ord(i)<=90:\n",
        "    count_upper+=1\n",
        "  else:\n",
        "    count_lower+=1\n",
        "if count_upper>count_lower:\n",
        "  new_st=st.upper()\n",
        "else:\n",
        "  new_st = st.lower()\n",
        "print(new_st)"
      ],
      "metadata": {
        "colab": {
          "base_uri": "https://localhost:8080/"
        },
        "id": "K1k0FhQbryd8",
        "outputId": "60d51244-eeed-4a85-c328-f6705b405845"
      },
      "execution_count": null,
      "outputs": [
        {
          "output_type": "stream",
          "name": "stdout",
          "text": [
            "ApplE\n",
            "apple\n"
          ]
        }
      ]
    },
    {
      "cell_type": "markdown",
      "source": [
        "**TASK 2**"
      ],
      "metadata": {
        "id": "IT_9peUbvSO4"
      }
    },
    {
      "cell_type": "code",
      "source": [
        "st= input()\n",
        "is_digit = False\n",
        "is_alpha = False\n",
        "\n",
        "for i in st:\n",
        "  if  48<= ord(i) <= 57:\n",
        "    is_digit = True\n",
        "  elif ( 97<= ord(i) <= 122) or (65 <= ord(i) <= 90):\n",
        "    is_alpha = True\n",
        "\n",
        "if is_digit and is_alpha:\n",
        "    print('MIXED')\n",
        "\n",
        "else:\n",
        "  if is_digit:\n",
        "    print('NUMBER')\n",
        "  elif is_alpha:\n",
        "    print('WORD')\n"
      ],
      "metadata": {
        "colab": {
          "base_uri": "https://localhost:8080/"
        },
        "id": "HTMve8qJN0Rv",
        "outputId": "b3bd282b-e982-4aa2-a5ca-4eba1cff0a0d"
      },
      "execution_count": null,
      "outputs": [
        {
          "output_type": "stream",
          "name": "stdout",
          "text": [
            "Hello\n",
            "WORD\n"
          ]
        }
      ]
    },
    {
      "cell_type": "markdown",
      "source": [
        "**TASK 3**"
      ],
      "metadata": {
        "id": "iS2h9VO1RaQu"
      }
    },
    {
      "cell_type": "code",
      "source": [
        "st = input()\n",
        "index1 = 0\n",
        "for i in range(len(st)):\n",
        "  #if 65 <= stord(i) <= 90\n",
        "  print(ord(st[i]),end =\" ami ord \")\n",
        "\n",
        "  print(i,end=\" index\")\n",
        "  print()\n",
        "  print(\"what?\",st[i],end=\" \")\n"
      ],
      "metadata": {
        "id": "6FtWE7mSl0c0",
        "colab": {
          "base_uri": "https://localhost:8080/"
        },
        "outputId": "dec72397-c154-4f1c-ab7d-32cdaf86c90c"
      },
      "execution_count": null,
      "outputs": [
        {
          "output_type": "stream",
          "name": "stdout",
          "text": [
            "qwerty\n",
            "113 ami ord 0 index\n",
            "what? q 119 ami ord 1 index\n",
            "what? w 101 ami ord 2 index\n",
            "what? e 114 ami ord 3 index\n",
            "what? r 116 ami ord 4 index\n",
            "what? t 121 ami ord 5 index\n",
            "what? y "
          ]
        }
      ]
    },
    {
      "cell_type": "code",
      "source": [
        "print(ord(\"A\"))\n",
        "print(ord(\"a\"))\n",
        "print(ord(\"1\"))\n",
        "\n",
        "print(chr(97))\n"
      ],
      "metadata": {
        "id": "NjPHI5RrvLVY",
        "colab": {
          "base_uri": "https://localhost:8080/",
          "height": 279
        },
        "outputId": "50e3c6b2-5318-4870-bb4a-3afb433c99f8"
      },
      "execution_count": null,
      "outputs": [
        {
          "output_type": "stream",
          "name": "stdout",
          "text": [
            "65\n",
            "97\n",
            "49\n",
            "a\n"
          ]
        },
        {
          "output_type": "error",
          "ename": "TypeError",
          "evalue": "ignored",
          "traceback": [
            "\u001b[0;31m---------------------------------------------------------------------------\u001b[0m",
            "\u001b[0;31mTypeError\u001b[0m                                 Traceback (most recent call last)",
            "\u001b[0;32m<ipython-input-55-da1b6c87d548>\u001b[0m in \u001b[0;36m<cell line: 6>\u001b[0;34m()\u001b[0m\n\u001b[1;32m      4\u001b[0m \u001b[0;34m\u001b[0m\u001b[0m\n\u001b[1;32m      5\u001b[0m \u001b[0mprint\u001b[0m\u001b[0;34m(\u001b[0m\u001b[0mchr\u001b[0m\u001b[0;34m(\u001b[0m\u001b[0;36m97\u001b[0m\u001b[0;34m)\u001b[0m\u001b[0;34m)\u001b[0m\u001b[0;34m\u001b[0m\u001b[0;34m\u001b[0m\u001b[0m\n\u001b[0;32m----> 6\u001b[0;31m \u001b[0mprint\u001b[0m\u001b[0;34m(\u001b[0m\u001b[0mchr\u001b[0m\u001b[0;34m(\u001b[0m\u001b[0;34m\"Q\"\u001b[0m\u001b[0;34m)\u001b[0m\u001b[0;34m)\u001b[0m\u001b[0;34m\u001b[0m\u001b[0;34m\u001b[0m\u001b[0m\n\u001b[0m",
            "\u001b[0;31mTypeError\u001b[0m: 'str' object cannot be interpreted as an integer"
          ]
        }
      ]
    },
    {
      "cell_type": "code",
      "source": [
        "st = input()\n",
        "index = 0\n",
        "index1 = 0\n",
        "for i in range(len(st)):\n",
        "  if 65<=ord(st[i])<=90:\n",
        "    index += i\n",
        "    #print(index)\n",
        "    break\n",
        "for i in range(-1,-len(st),-1):\n",
        "  if 65<=ord(st[i])<=90:\n",
        "    index1 += i\n",
        "    #print(index1)\n",
        "    break\n",
        "\n",
        "if (index1-index)<1:\n",
        "  print(\"BLANK\")\n",
        "else:\n",
        "  print(st[(index+1):index1])"
      ],
      "metadata": {
        "id": "l9wT0ayNv38g",
        "colab": {
          "base_uri": "https://localhost:8080/"
        },
        "outputId": "db7a6d15-ba0a-4ed8-e84b-a172fff08b42"
      },
      "execution_count": null,
      "outputs": [
        {
          "output_type": "stream",
          "name": "stdout",
          "text": [
            "baNgladEsh\n",
            "BLANK\n"
          ]
        }
      ]
    },
    {
      "cell_type": "code",
      "source": [
        "#Task3\n",
        "a=input()\n",
        "for i in range(len(a)):\n",
        "  if 65<=ord(a[i])<=90:\n",
        "    b=i+1\n",
        "    break\n",
        "for j in range(b,len(a)):\n",
        "  if 65<=ord(a[j])<=90:\n",
        "    c=j\n",
        "x=''\n",
        "if c-b>1:\n",
        "  for k in range(b,c,1):\n",
        "    x+=a[k]\n",
        "elif c-b<=1:\n",
        "  x='BLANK'\n",
        "print(x)"
      ],
      "metadata": {
        "colab": {
          "base_uri": "https://localhost:8080/"
        },
        "id": "_JkeOr1u_qq-",
        "outputId": "e15c0197-6000-41a7-e243-1bff7a3af5ef"
      },
      "execution_count": null,
      "outputs": [
        {
          "output_type": "stream",
          "name": "stdout",
          "text": [
            "coDHHiIng\n",
            "HHi\n"
          ]
        }
      ]
    },
    {
      "cell_type": "markdown",
      "source": [
        "**TASK 4**"
      ],
      "metadata": {
        "id": "mab-C7loeOX5"
      }
    },
    {
      "cell_type": "code",
      "source": [
        "st = input()\n",
        "str1,str2 = st.split(\", \")\n",
        "final_str = ''\n",
        "\n",
        "\n",
        "for i in str1:\n",
        "    if i in str2:\n",
        "        final_str+=i\n",
        "    else:\n",
        "        pass\n",
        "for j in str2:\n",
        "    if j in str1:\n",
        "      final_str+=j\n",
        "    else:\n",
        "      pass\n",
        "if final_str=='':\n",
        "  print('Nothing in common.')\n",
        "else:\n",
        "  print(final_str)\n"
      ],
      "metadata": {
        "colab": {
          "base_uri": "https://localhost:8080/"
        },
        "id": "kEETZ5YXeQj-",
        "outputId": "2f45caed-ec5d-4a89-b884-e6edca30e888"
      },
      "execution_count": null,
      "outputs": [
        {
          "output_type": "stream",
          "name": "stdout",
          "text": [
            "harry, hermonie\n",
            "hrrhr\n"
          ]
        }
      ]
    },
    {
      "cell_type": "code",
      "source": [
        "#Task4\n",
        "a=input()\n",
        "b=a.split(',')\n",
        "x=''\n",
        "for i in b[0]:\n",
        "  if i in b[1]:\n",
        "    x+=i\n",
        "for j in b[1]:\n",
        "  if j in b[0]:\n",
        "    x+=j\n",
        "if x=='':\n",
        "  print('Nothing in common.')\n",
        "else:\n",
        "  print(x)"
      ],
      "metadata": {
        "id": "QbA8gyosBfcx"
      },
      "execution_count": null,
      "outputs": []
    },
    {
      "cell_type": "markdown",
      "source": [
        "**TASK 5**"
      ],
      "metadata": {
        "id": "vpfRHhocGobH"
      }
    },
    {
      "cell_type": "code",
      "source": [
        "passwords = input()\n",
        "\n",
        "\n",
        "lowercase = 0\n",
        "uppercase = 0\n",
        "digit = 0\n",
        "special = 0\n",
        "\n",
        "for char in password:\n",
        "  if 97 <=ord(char) <= 122:\n",
        "    lowercase+= 1\n",
        "  elif 65 <= ord(char) <= 90:\n",
        "    uppercase+= 1\n",
        "  elif 48 <= ord(char) <= 57:\n",
        "    digit+= 1\n",
        "  elif i=='_' or i=='$' or i=='#' or i=='@':\n",
        "    special+=1\n",
        "\n",
        "if lowercase==\"0\":\n",
        "    print(\"Lowercase character missing\")\n",
        "if uppercase==\"0\":\n",
        "    print(\"Uppercase character missing\")\n",
        "if digit==\"0\":\n",
        "    print(\"Digit missing\")\n",
        "if special==\"0\":\n",
        "    print(\"Special character missing\")\n",
        "if lowercase>0 and  uppercase>0 and digit>0 and special>0:\n",
        "    print(\"OK\")\n",
        "else:\n",
        "  print(\"nO\")\n"
      ],
      "metadata": {
        "colab": {
          "base_uri": "https://localhost:8080/"
        },
        "id": "9ypOkqaXGquH",
        "outputId": "b136d551-579e-4318-ccd0-30a0f88a1eb9"
      },
      "execution_count": null,
      "outputs": [
        {
          "output_type": "stream",
          "name": "stdout",
          "text": [
            "ohmygod\n",
            "nO\n"
          ]
        }
      ]
    },
    {
      "cell_type": "code",
      "source": [
        "password=input()\n",
        "uppercase=0\n",
        "lowercase=0\n",
        "digit=0\n",
        "special=0\n",
        "for i in password:\n",
        "  if 65<=ord(i)<=90:\n",
        "    uppercase+=1\n",
        "  elif 97<=ord(i)<=122:\n",
        "    lowercase+=1\n",
        "  elif 48<=ord(i)<=57:\n",
        "    digit+=1\n",
        "  elif i=='_' or i=='$' or i=='#' or i=='@':\n",
        "    special+=1\n",
        "x=''\n",
        "if uppercase==0:\n",
        "  x+='Uppercase character missing, '\n",
        "if lowercase==0:\n",
        "  x+='Lowercase character missing, '\n",
        "if digit==0:\n",
        "  x+='Digit missing, '\n",
        "if special==0:\n",
        "  x+='Special character missing, '\n",
        "\n",
        "if uppercase>0 and lowercase>0 and digit>0 and special>0:\n",
        "  print('OK')\n",
        "\n",
        "else:\n",
        "  print(x[0:len(x)-2:1])"
      ],
      "metadata": {
        "colab": {
          "base_uri": "https://localhost:8080/"
        },
        "id": "BOB2bZjRoqSM",
        "outputId": "46f073a7-c8d3-488b-da4a-c5e23eb9d9bd"
      },
      "execution_count": null,
      "outputs": [
        {
          "output_type": "stream",
          "name": "stdout",
          "text": [
            "ohmygod\n",
            "Uppercase character missing, Digit missing, Special character missing\n"
          ]
        }
      ]
    },
    {
      "cell_type": "code",
      "source": [
        "x = \"Uppercase character missing, Digit missing, Special character missing, \"\n",
        "print(x[0:len(x)-2:1])"
      ],
      "metadata": {
        "colab": {
          "base_uri": "https://localhost:8080/"
        },
        "id": "XTz21zBBEw0t",
        "outputId": "ab0fc2d0-dc5e-4ba6-b8c5-2be8f4097645"
      },
      "execution_count": null,
      "outputs": [
        {
          "output_type": "stream",
          "name": "stdout",
          "text": [
            "Uppercase character missing, Digit missing, Special character missing\n"
          ]
        }
      ]
    },
    {
      "cell_type": "markdown",
      "source": [
        "**LIST**"
      ],
      "metadata": {
        "id": "jPKupkzq02fn"
      }
    },
    {
      "cell_type": "markdown",
      "source": [
        "**TASK 1**"
      ],
      "metadata": {
        "id": "EF_gDDeX08Ss"
      }
    },
    {
      "cell_type": "code",
      "source": [
        "x=[]\n",
        "u=[]\n",
        "while True:\n",
        "  i = input()\n",
        "  if i == \"STOP\":\n",
        "    break\n",
        "  x.append(int(i))\n",
        "for i in x:\n",
        "  if int(i) not in u:\n",
        "    u.append(int(i))\n",
        "for i in u:\n",
        "  count = 0\n",
        "  for j in x:\n",
        "    if i==j:\n",
        "      count+=1\n",
        "  print(i,\"-\",count,\"times\")\n",
        "\n",
        "\n",
        "print(u)"
      ],
      "metadata": {
        "colab": {
          "base_uri": "https://localhost:8080/"
        },
        "id": "vuZXTXXvv4kY",
        "outputId": "7ebd4671-5326-4461-fa4a-10212f6bc130"
      },
      "execution_count": null,
      "outputs": [
        {
          "output_type": "stream",
          "name": "stdout",
          "text": [
            "10\n",
            "20\n",
            "20\n",
            "10\n",
            "30\n",
            "10\n",
            "50\n",
            "90\n",
            "STOP\n",
            "10 - 3 times\n",
            "20 - 2 times\n",
            "30 - 1 times\n",
            "50 - 1 times\n",
            "90 - 1 times\n",
            "[10, 20, 30, 50, 90]\n"
          ]
        }
      ]
    },
    {
      "cell_type": "code",
      "source": [
        "N= int(input())\n",
        "sum1 =0\n",
        "for i in range(N):\n",
        "  st = input()\n",
        "  lst1 = st.split(\" \")\n",
        "  #print(lst1,\"hhhh\")\n",
        "  for i in range(len(lst1)):#lst1 = [int(i) for i in lst1]\n",
        "    lst1[i] = int(lst1[i])\n",
        "  #print(lst1)\n",
        "  sum2 = 0\n",
        "\n",
        "  lst2 =[]\n",
        "  for i in lst1:\n",
        "    sum2 +=int(i)\n",
        "    lst2.append(sum2)\n",
        "    #print(lst2,\"asd\")\n",
        "  if sum2>sum1:\n",
        "    sum1=sum2\n",
        "print(sum1)\n",
        "print(lst2)\n",
        "\n"
      ],
      "metadata": {
        "colab": {
          "base_uri": "https://localhost:8080/"
        },
        "id": "uB_yJhBi1DLG",
        "outputId": "b98db319-a76c-46bf-e658-0361d3fa31c6"
      },
      "execution_count": null,
      "outputs": [
        {
          "output_type": "stream",
          "name": "stdout",
          "text": [
            "4\n",
            "1 2 3\n",
            "4 5 6\n",
            "7 8 9\n",
            "10 11 12\n",
            "33\n",
            "[10, 21, 33]\n"
          ]
        }
      ]
    },
    {
      "cell_type": "code",
      "source": [
        "string1 = input().split(\" \")\n",
        "string2 = input().split(\" \")\n",
        "new_lst=[]\n",
        "#string1 = [int(i) for i in string1]\n",
        "#string2 = [int(i) for i in string2]\n",
        "#print(string1)\n",
        "#print(string2)\n",
        "for i in string1:\n",
        "  for j in string2:\n",
        "    new_lst.append(int(i)*int(j))\n",
        "print(new_lst)\n"
      ],
      "metadata": {
        "id": "Imi3CFdk-FC_",
        "colab": {
          "base_uri": "https://localhost:8080/"
        },
        "outputId": "319a2e0e-56f9-46d5-af1e-fe1a0f808fc9"
      },
      "execution_count": null,
      "outputs": [
        {
          "output_type": "stream",
          "name": "stdout",
          "text": [
            "2 3 6\n",
            "3 4 5\n",
            "[6, 8, 10, 9, 12, 15, 18, 24, 30]\n"
          ]
        }
      ]
    },
    {
      "cell_type": "code",
      "source": [
        "while True:\n",
        "  str1 = input()\n",
        "  if str1 == \"STOP\":\n",
        "    break\n",
        "  x = str1.split(\" \")\n",
        "  print(x)\n",
        "  differences = []\n",
        "  for i in range(len(x)-1):\n",
        "    diff = x[i] - x[i+1]\n",
        "    if diff < 0:\n",
        "        diff = -diff\n",
        "    differences.append(diff)\n",
        "  is_ub_jumper = True\n",
        "  for i in range(1, n):\n",
        "      if differences[i-1] != i:\n",
        "          is_ub_jumper = False\n",
        "          break\n",
        "  if is_ub_jumper:\n",
        "      print(\"UB Jumper\")\n",
        "  else:\n",
        "      print(\"Not UB Jumper\")\n",
        "\n"
      ],
      "metadata": {
        "colab": {
          "base_uri": "https://localhost:8080/",
          "height": 279
        },
        "id": "olS_Hs_bPuq3",
        "outputId": "2b3a9a69-3611-4948-d165-1f1c8e1b6150"
      },
      "execution_count": null,
      "outputs": [
        {
          "output_type": "stream",
          "name": "stdout",
          "text": [
            "1 4 2 3\n",
            "['1', '4', '2', '3']\n"
          ]
        },
        {
          "output_type": "error",
          "ename": "TypeError",
          "evalue": "ignored",
          "traceback": [
            "\u001b[0;31m---------------------------------------------------------------------------\u001b[0m",
            "\u001b[0;31mTypeError\u001b[0m                                 Traceback (most recent call last)",
            "\u001b[0;32m<ipython-input-69-3fa220c4cc1b>\u001b[0m in \u001b[0;36m<cell line: 1>\u001b[0;34m()\u001b[0m\n\u001b[1;32m      7\u001b[0m   \u001b[0mdifferences\u001b[0m \u001b[0;34m=\u001b[0m \u001b[0;34m[\u001b[0m\u001b[0;34m]\u001b[0m\u001b[0;34m\u001b[0m\u001b[0;34m\u001b[0m\u001b[0m\n\u001b[1;32m      8\u001b[0m   \u001b[0;32mfor\u001b[0m \u001b[0mi\u001b[0m \u001b[0;32min\u001b[0m \u001b[0mrange\u001b[0m\u001b[0;34m(\u001b[0m\u001b[0mlen\u001b[0m\u001b[0;34m(\u001b[0m\u001b[0mx\u001b[0m\u001b[0;34m)\u001b[0m\u001b[0;34m-\u001b[0m\u001b[0;36m1\u001b[0m\u001b[0;34m)\u001b[0m\u001b[0;34m:\u001b[0m\u001b[0;34m\u001b[0m\u001b[0;34m\u001b[0m\u001b[0m\n\u001b[0;32m----> 9\u001b[0;31m     \u001b[0mdiff\u001b[0m \u001b[0;34m=\u001b[0m \u001b[0mx\u001b[0m\u001b[0;34m[\u001b[0m\u001b[0mi\u001b[0m\u001b[0;34m]\u001b[0m \u001b[0;34m-\u001b[0m \u001b[0mx\u001b[0m\u001b[0;34m[\u001b[0m\u001b[0mi\u001b[0m\u001b[0;34m+\u001b[0m\u001b[0;36m1\u001b[0m\u001b[0;34m]\u001b[0m\u001b[0;34m\u001b[0m\u001b[0;34m\u001b[0m\u001b[0m\n\u001b[0m\u001b[1;32m     10\u001b[0m     \u001b[0;32mif\u001b[0m \u001b[0mdiff\u001b[0m \u001b[0;34m<\u001b[0m \u001b[0;36m0\u001b[0m\u001b[0;34m:\u001b[0m\u001b[0;34m\u001b[0m\u001b[0;34m\u001b[0m\u001b[0m\n\u001b[1;32m     11\u001b[0m         \u001b[0mdiff\u001b[0m \u001b[0;34m=\u001b[0m \u001b[0;34m-\u001b[0m\u001b[0mdiff\u001b[0m\u001b[0;34m\u001b[0m\u001b[0;34m\u001b[0m\u001b[0m\n",
            "\u001b[0;31mTypeError\u001b[0m: unsupported operand type(s) for -: 'str' and 'str'"
          ]
        }
      ]
    },
    {
      "cell_type": "code",
      "source": [
        "while True:\n",
        "    line = input().strip()\n",
        "    if line == \"STOP\":\n",
        "        break\n",
        "    sequence = [int(x) for x in line.split()]\n",
        "    n = len(sequence)\n",
        "    differences = []\n",
        "    for i in range(n-1):\n",
        "        diff = sequence[i] - sequence[i+1]\n",
        "        if diff < 0:\n",
        "            diff = -diff\n",
        "        differences.append(diff)\n",
        "    differences.sort()\n",
        "    is_ub_jumper = True\n",
        "    for i in range(1, n):\n",
        "        if differences[i-1] != i:\n",
        "            is_ub_jumper = False\n",
        "            break\n",
        "    if is_ub_jumper:\n",
        "        print(\"UB Jumper\")\n",
        "    else:\n",
        "        print(\"Not UB Jumper\")\n"
      ],
      "metadata": {
        "id": "A5zhB641a0mE",
        "colab": {
          "base_uri": "https://localhost:8080/"
        },
        "outputId": "e568bb61-9b80-4205-932a-bcd5e2e7ce27"
      },
      "execution_count": null,
      "outputs": [
        {
          "name": "stdout",
          "output_type": "stream",
          "text": [
            "1 4 2 3\n",
            "Not UB Jumper\n",
            "2 1 4 6 10\n",
            "Not UB Jumper\n",
            "1 4 2 -1 6\n",
            "Not UB Jumper\n",
            "STOP\n"
          ]
        }
      ]
    },
    {
      "cell_type": "code",
      "source": [
        "while True:\n",
        "    line = input().strip()\n",
        "    if line == \"STOP\":\n",
        "        break\n",
        "    sequence = [int(x) for x in line.split()]\n",
        "    n = len(sequence)\n",
        "    differences = [0] * (n * n)\n",
        "    for i in range(n-1):\n",
        "        diff = sequence[i] - sequence[i+1]\n",
        "        if diff < 0:\n",
        "            diff = -diff\n",
        "        differences[diff] = 1\n",
        "    is_ub_jumper = True\n",
        "    for i in range(1, n):\n",
        "        if differences[i] != 1:\n",
        "            is_ub_jumper = False\n",
        "            break\n",
        "    if is_ub_jumper:\n",
        "        print(\"UB Jumper\")\n",
        "    else:\n",
        "        print(\"Not UB Jumper\")\n"
      ],
      "metadata": {
        "colab": {
          "base_uri": "https://localhost:8080/"
        },
        "id": "U1nBitFKhDja",
        "outputId": "a664072e-92e4-44b6-99df-953d01edd3bf"
      },
      "execution_count": null,
      "outputs": [
        {
          "name": "stdout",
          "output_type": "stream",
          "text": [
            "1 4 2 3\n",
            "UB Jumper\n",
            "2 1 4 6 10\n",
            "UB Jumper\n",
            "1 4 2 -1 6\n",
            "Not UB Jumper\n",
            "STOP\n"
          ]
        }
      ]
    },
    {
      "cell_type": "code",
      "source": [
        "while True:\n",
        "  str1 = input().strip()\n",
        "  if str1 == \"STOP\":\n",
        "    break\n",
        "  x = [int(i) for i in str1.split()]\n",
        "\n",
        "  differences = [0] * ((len(x)) * (len(x)))\n",
        "\n",
        "  for i in range(len(x)-1):\n",
        "      diff = x[i] - x[i+1]\n",
        "      if diff < 0:\n",
        "          diff = -diff\n",
        "      differences[diff] = 1\n",
        "  is_ub_jumper = True\n",
        "  for i in range(1, len(x)):\n",
        "      if differences[i] != 1:\n",
        "          is_ub_jumper = False\n",
        "          break\n",
        "  if is_ub_jumper:\n",
        "      print(\"UB Jumper\")\n",
        "  else:\n",
        "      print(\"Not UB Jumper\")\n"
      ],
      "metadata": {
        "colab": {
          "base_uri": "https://localhost:8080/",
          "height": 418
        },
        "id": "V8XSKgvvhUz9",
        "outputId": "1c57a594-24e9-4011-e5dd-311d33b71099"
      },
      "execution_count": null,
      "outputs": [
        {
          "name": "stdout",
          "output_type": "stream",
          "text": [
            "1 4 2 3\n",
            "UB Jumper\n",
            "gf\n"
          ]
        },
        {
          "output_type": "error",
          "ename": "ValueError",
          "evalue": "ignored",
          "traceback": [
            "\u001b[0;31m---------------------------------------------------------------------------\u001b[0m",
            "\u001b[0;31mValueError\u001b[0m                                Traceback (most recent call last)",
            "\u001b[0;32m<ipython-input-112-9afd1fc8baa2>\u001b[0m in \u001b[0;36m<cell line: 1>\u001b[0;34m()\u001b[0m\n\u001b[1;32m      3\u001b[0m   \u001b[0;32mif\u001b[0m \u001b[0mstr1\u001b[0m \u001b[0;34m==\u001b[0m \u001b[0;34m\"STOP\"\u001b[0m\u001b[0;34m:\u001b[0m\u001b[0;34m\u001b[0m\u001b[0;34m\u001b[0m\u001b[0m\n\u001b[1;32m      4\u001b[0m     \u001b[0;32mbreak\u001b[0m\u001b[0;34m\u001b[0m\u001b[0;34m\u001b[0m\u001b[0m\n\u001b[0;32m----> 5\u001b[0;31m   \u001b[0mx\u001b[0m \u001b[0;34m=\u001b[0m \u001b[0;34m[\u001b[0m\u001b[0mint\u001b[0m\u001b[0;34m(\u001b[0m\u001b[0mi\u001b[0m\u001b[0;34m)\u001b[0m \u001b[0;32mfor\u001b[0m \u001b[0mi\u001b[0m \u001b[0;32min\u001b[0m \u001b[0mstr1\u001b[0m\u001b[0;34m.\u001b[0m\u001b[0msplit\u001b[0m\u001b[0;34m(\u001b[0m\u001b[0;34m)\u001b[0m\u001b[0;34m]\u001b[0m\u001b[0;34m\u001b[0m\u001b[0;34m\u001b[0m\u001b[0m\n\u001b[0m\u001b[1;32m      6\u001b[0m \u001b[0;34m\u001b[0m\u001b[0m\n\u001b[1;32m      7\u001b[0m   \u001b[0mdifferences\u001b[0m \u001b[0;34m=\u001b[0m \u001b[0;34m[\u001b[0m\u001b[0;36m0\u001b[0m\u001b[0;34m]\u001b[0m \u001b[0;34m*\u001b[0m \u001b[0;34m(\u001b[0m\u001b[0;34m(\u001b[0m\u001b[0mlen\u001b[0m\u001b[0;34m(\u001b[0m\u001b[0mx\u001b[0m\u001b[0;34m)\u001b[0m\u001b[0;34m)\u001b[0m \u001b[0;34m*\u001b[0m \u001b[0;34m(\u001b[0m\u001b[0mlen\u001b[0m\u001b[0;34m(\u001b[0m\u001b[0mx\u001b[0m\u001b[0;34m)\u001b[0m\u001b[0;34m)\u001b[0m\u001b[0;34m)\u001b[0m\u001b[0;34m\u001b[0m\u001b[0;34m\u001b[0m\u001b[0m\n",
            "\u001b[0;32m<ipython-input-112-9afd1fc8baa2>\u001b[0m in \u001b[0;36m<listcomp>\u001b[0;34m(.0)\u001b[0m\n\u001b[1;32m      3\u001b[0m   \u001b[0;32mif\u001b[0m \u001b[0mstr1\u001b[0m \u001b[0;34m==\u001b[0m \u001b[0;34m\"STOP\"\u001b[0m\u001b[0;34m:\u001b[0m\u001b[0;34m\u001b[0m\u001b[0;34m\u001b[0m\u001b[0m\n\u001b[1;32m      4\u001b[0m     \u001b[0;32mbreak\u001b[0m\u001b[0;34m\u001b[0m\u001b[0;34m\u001b[0m\u001b[0m\n\u001b[0;32m----> 5\u001b[0;31m   \u001b[0mx\u001b[0m \u001b[0;34m=\u001b[0m \u001b[0;34m[\u001b[0m\u001b[0mint\u001b[0m\u001b[0;34m(\u001b[0m\u001b[0mi\u001b[0m\u001b[0;34m)\u001b[0m \u001b[0;32mfor\u001b[0m \u001b[0mi\u001b[0m \u001b[0;32min\u001b[0m \u001b[0mstr1\u001b[0m\u001b[0;34m.\u001b[0m\u001b[0msplit\u001b[0m\u001b[0;34m(\u001b[0m\u001b[0;34m)\u001b[0m\u001b[0;34m]\u001b[0m\u001b[0;34m\u001b[0m\u001b[0;34m\u001b[0m\u001b[0m\n\u001b[0m\u001b[1;32m      6\u001b[0m \u001b[0;34m\u001b[0m\u001b[0m\n\u001b[1;32m      7\u001b[0m   \u001b[0mdifferences\u001b[0m \u001b[0;34m=\u001b[0m \u001b[0;34m[\u001b[0m\u001b[0;36m0\u001b[0m\u001b[0;34m]\u001b[0m \u001b[0;34m*\u001b[0m \u001b[0;34m(\u001b[0m\u001b[0;34m(\u001b[0m\u001b[0mlen\u001b[0m\u001b[0;34m(\u001b[0m\u001b[0mx\u001b[0m\u001b[0;34m)\u001b[0m\u001b[0;34m)\u001b[0m \u001b[0;34m*\u001b[0m \u001b[0;34m(\u001b[0m\u001b[0mlen\u001b[0m\u001b[0;34m(\u001b[0m\u001b[0mx\u001b[0m\u001b[0;34m)\u001b[0m\u001b[0;34m)\u001b[0m\u001b[0;34m)\u001b[0m\u001b[0;34m\u001b[0m\u001b[0;34m\u001b[0m\u001b[0m\n",
            "\u001b[0;31mValueError\u001b[0m: invalid literal for int() with base 10: 'gf'"
          ]
        }
      ]
    },
    {
      "cell_type": "code",
      "source": [
        "# Sample Input 1\n",
        "n = 5\n",
        "k = 2\n",
        "y = [0, 4, 5, 1, 0]\n",
        "\n",
        "count = [0]*6\n",
        "for i in range(n):\n",
        "    count[y[i]] += 1\n",
        "teams = 0\n",
        "for i in range(k, 6):\n",
        "    teams += count[i] // 3\n",
        "\n",
        "print(teams) # Output: 1\n",
        "\n",
        "# Sample Input 2\n",
        "n = 6\n",
        "k = 4\n",
        "y = [0, 1, 2, 3, 4, 5]\n",
        "\n",
        "count = [0]*6\n",
        "for i in range(n):\n",
        "    count[y[i]] += 1\n",
        "teams = 0\n",
        "for i in range(k, 6):\n",
        "    teams += count[i] // 3\n",
        "\n",
        "print(teams) # Output: 0\n",
        "\n",
        "# Sample Input 3\n",
        "n = 6\n",
        "k = 5\n",
        "y = [0, 0, 0, 0, 0, 0]\n",
        "\n",
        "count = [0]*6\n",
        "for i in range(n):\n",
        "    count[y[i]] += 1\n",
        "teams = 0\n",
        "for i in range(k, 6):\n",
        "    teams += count[i] // 3\n",
        "\n",
        "print(teams) # Output: 2\n"
      ],
      "metadata": {
        "colab": {
          "base_uri": "https://localhost:8080/"
        },
        "id": "fLoSPnITkefk",
        "outputId": "ce26aeb4-33f2-4f7c-c9cb-47d287195875"
      },
      "execution_count": null,
      "outputs": [
        {
          "output_type": "stream",
          "name": "stdout",
          "text": [
            "0\n",
            "0\n",
            "0\n"
          ]
        }
      ]
    },
    {
      "cell_type": "code",
      "source": [
        "n = 5\n",
        "k = 2\n",
        "y = [0, 4, 5, 1, 0]\n",
        "\n",
        "count = [0]*6\n",
        "for i in range(n):\n",
        "    count[y[i]] += 1\n",
        "teams = 0\n",
        "for i in range(k, 6):\n",
        "    teams += count[i] // 3\n",
        "\n",
        "print(teams) # Output: 1"
      ],
      "metadata": {
        "colab": {
          "base_uri": "https://localhost:8080/"
        },
        "id": "_3F7y6PtktUZ",
        "outputId": "24b5df9a-1a38-435b-96f0-8edee078cc60"
      },
      "execution_count": null,
      "outputs": [
        {
          "output_type": "stream",
          "name": "stdout",
          "text": [
            "0\n"
          ]
        }
      ]
    },
    {
      "cell_type": "code",
      "source": [
        "def max_teams(n, k, y):\n",
        "    count = [0]*6\n",
        "    for i in range(n):\n",
        "        count[y[i]] += 1\n",
        "    teams = 0\n",
        "    for i in range(k, 6):\n",
        "        teams += count[i] // 3\n",
        "    return teams\n",
        "\n",
        "# Sample Input 1\n",
        "n = 5\n",
        "k = 2\n",
        "y = [0, 4, 5, 1, 0]\n",
        "print(max_teams(n, k, y)) # Output: 1\n",
        "\n",
        "# Sample Input 2\n",
        "n = 6\n",
        "k = 4\n",
        "y = [0, 1, 2, 3, 4, 5]\n",
        "print(max_teams(n, k, y)) # Output: 0\n",
        "\n",
        "# Sample Input 3\n",
        "n = 6\n",
        "k = 5\n",
        "y = [0, 0, 0, 0, 0, 0]\n",
        "print(max_teams(n, k, y)) # Output: 2\n"
      ],
      "metadata": {
        "colab": {
          "base_uri": "https://localhost:8080/"
        },
        "id": "UyRvgYnxkzbM",
        "outputId": "4f195de1-8551-4dc8-ece3-1228d7a83a44"
      },
      "execution_count": null,
      "outputs": [
        {
          "output_type": "stream",
          "name": "stdout",
          "text": [
            "0\n",
            "0\n",
            "0\n"
          ]
        }
      ]
    },
    {
      "cell_type": "code",
      "source": [
        "n_k = input().split()\n",
        "n = int(n_k[0])\n",
        "k = int(n_k[1])\n",
        "\n",
        "y = input().split()\n",
        "for i in range(n):\n",
        "    y[i] = int(y[i])\n",
        "\n",
        "count = [0]*6\n",
        "for i in range(n):\n",
        "    if y[i] < 0:\n",
        "        y[i] = -y[i]\n",
        "    count[y[i]] += 1\n",
        "\n",
        "teams = 0\n",
        "for i in range(k, 6):\n",
        "    teams += count[i] // 3\n",
        "\n",
        "print(teams)\n"
      ],
      "metadata": {
        "colab": {
          "base_uri": "https://localhost:8080/"
        },
        "id": "mBt_6zSck4JT",
        "outputId": "1b8cfe45-f234-4072-e4e2-34f7dc962605"
      },
      "execution_count": null,
      "outputs": [
        {
          "output_type": "stream",
          "name": "stdout",
          "text": [
            "5 2\n",
            "0 4 5 1 0\n",
            "0\n"
          ]
        }
      ]
    },
    {
      "cell_type": "code",
      "source": [
        "def max_teams(n, k, arr):\n",
        "    count = [0]*6\n",
        "    for i in range(n):\n",
        "        count[arr[i]] += 1\n",
        "    teams = 0\n",
        "    for i in range(5, 0, -1):\n",
        "        while count[i] > 0 and k > 0:\n",
        "            teams += 1\n",
        "            count[i] -= 1\n",
        "            k -= 1\n",
        "        if k == 0:\n",
        "            break\n",
        "    return teams\n",
        "\n",
        "n, k = map(int, input().split())\n",
        "arr = list(map(int, input().split()))\n",
        "print(max_teams(n, k, arr))\n"
      ],
      "metadata": {
        "colab": {
          "base_uri": "https://localhost:8080/"
        },
        "id": "navnJm50qTS5",
        "outputId": "28303a5c-2779-44f2-ba8f-efb1bdaef166"
      },
      "execution_count": null,
      "outputs": [
        {
          "output_type": "stream",
          "name": "stdout",
          "text": [
            "5 2\n",
            "0 4 5 1 0\n",
            "2\n"
          ]
        }
      ]
    },
    {
      "cell_type": "code",
      "source": [
        "def max_teams(n, k, arr):\n",
        "    count = [0]*6\n",
        "    for i in range(n):\n",
        "        count[arr[i]] += 1\n",
        "    teams = 0\n",
        "    for i in range(5, 0, -1):\n",
        "        while count[i] > 0 and k > 0:\n",
        "            teams += 1\n",
        "            count[i] -= 1\n",
        "            k -= 1\n",
        "        if k == 0:\n",
        "            break\n",
        "    return teams\n",
        "\n",
        "n_k = input().split()\n",
        "n = int(n_k[0])\n",
        "k = int(n_k[1])\n",
        "arr_input = input().split()\n",
        "arr = [int(num) for num in arr_input]\n",
        "print(max_teams(n, k, arr))\n"
      ],
      "metadata": {
        "colab": {
          "base_uri": "https://localhost:8080/"
        },
        "id": "DFR3w2dIMoHZ",
        "outputId": "db761a4c-944f-485e-fc0d-bcbe99d0c974"
      },
      "execution_count": null,
      "outputs": [
        {
          "output_type": "stream",
          "name": "stdout",
          "text": [
            "5 2\n",
            "0 4 5 1 0\n",
            "2\n"
          ]
        }
      ]
    },
    {
      "cell_type": "code",
      "source": [
        "def max_teams(n, k, arr):\n",
        "    count = [0]*6\n",
        "    for i in range(n):\n",
        "        count[arr[i]] += 1\n",
        "    teams = 0\n",
        "    for i in range(5, 0, -1):\n",
        "        while count[i] > 0 and k > 0:\n",
        "            teams += 1\n",
        "            count[i] -= 1\n",
        "            k -= 1\n",
        "        if k == 0:\n",
        "            break\n",
        "    return teams\n",
        "\n",
        "n_k = input().split()\n",
        "n = int(n_k[0])\n",
        "k = int(n_k[1])\n",
        "arr_input = input().split()\n",
        "arr = [int(num) for num in arr_input]\n",
        "print(max_teams(n, k, arr))\n"
      ],
      "metadata": {
        "colab": {
          "base_uri": "https://localhost:8080/"
        },
        "id": "fchmFHp_NKVO",
        "outputId": "a2ce6610-9484-474c-d3f0-978c75fbc81e"
      },
      "execution_count": null,
      "outputs": [
        {
          "output_type": "stream",
          "name": "stdout",
          "text": [
            "6 4\n",
            "0 0 0 0 0 0\n",
            "0\n"
          ]
        }
      ]
    },
    {
      "cell_type": "code",
      "source": [
        "def max_teams(n, k, arr):\n",
        "    count = [0]*6\n",
        "    for i in range(n):\n",
        "        count[min(5, arr[i])] += 1\n",
        "    teams = 0\n",
        "    for i in range(5, k-1, -1):\n",
        "        while count[i] > 0 and n >= 3:\n",
        "            teams += 1\n",
        "            count[i] -= 1\n",
        "            n -= 3\n",
        "    return teams\n",
        "\n",
        "n_k = input().split()\n",
        "n = int(n_k[0])\n",
        "k = int(n_k[1])\n",
        "arr_input = input().split()\n",
        "arr = [int(num) for num in arr_input]\n",
        "print(max_teams(n, k, arr))\n"
      ],
      "metadata": {
        "colab": {
          "base_uri": "https://localhost:8080/"
        },
        "id": "6weawEraNukZ",
        "outputId": "74c74b3b-96a1-416e-d250-e88a8cf9c88c"
      },
      "execution_count": null,
      "outputs": [
        {
          "output_type": "stream",
          "name": "stdout",
          "text": [
            "6 5\n",
            "0 0 0 0 0 0\n",
            "0\n"
          ]
        }
      ]
    },
    {
      "cell_type": "code",
      "source": [
        "def max_teams(n, k, arr):\n",
        "    count = [0]*6\n",
        "    for i in range(n):\n",
        "        if arr[i] > 5:\n",
        "            count[5] += 1\n",
        "        else:\n",
        "            count[arr[i]] += 1\n",
        "    teams = 0\n",
        "    for i in range(5, k-1, -1):\n",
        "        while count[i] > 0 and n >= 3:\n",
        "            teams += 1\n",
        "            count[i] -= 1\n",
        "            n -= 3\n",
        "    return teams\n",
        "\n",
        "n_k = input().split()\n",
        "n = int(n_k[0])\n",
        "k = int(n_k[1])\n",
        "arr_input = input().split()\n",
        "arr = [int(num) for num in arr_input]\n",
        "print(max_teams(n, k, arr))\n"
      ],
      "metadata": {
        "colab": {
          "base_uri": "https://localhost:8080/"
        },
        "id": "MHzb_hRNPwgw",
        "outputId": "3f82fe0f-41d9-42f1-f572-ffe2b691efd4"
      },
      "execution_count": null,
      "outputs": [
        {
          "output_type": "stream",
          "name": "stdout",
          "text": [
            "6 5\n",
            "0 0 0 0 0 0\n",
            "0\n"
          ]
        }
      ]
    },
    {
      "cell_type": "code",
      "source": [
        "n_k = input().split()\n",
        "n = int(n_k[0])\n",
        "k = int(n_k[1])\n",
        "arr_input = input().split()\n",
        "arr = [int(num) for num in arr_input]\n",
        "\n",
        "count = [0]*6\n",
        "for i in range(n):\n",
        "    if arr[i] > 5:\n",
        "        count[5] += 1\n",
        "    else:\n",
        "        count[arr[i]] += 1\n",
        "teams = 0\n",
        "for i in range(5, k-1, -1):\n",
        "    while count[i] > 0 and n >= 3:\n",
        "        teams += 1\n",
        "        count[i] -= 1\n",
        "        n -= 3\n",
        "\n",
        "print(teams)\n"
      ],
      "metadata": {
        "colab": {
          "base_uri": "https://localhost:8080/"
        },
        "id": "zum7GlJBQUaT",
        "outputId": "a3ff51fc-3e34-405b-ce48-6cc607936baa"
      },
      "execution_count": null,
      "outputs": [
        {
          "output_type": "stream",
          "name": "stdout",
          "text": [
            "6 5\n",
            "0 0 0 0 0 0\n",
            "0\n"
          ]
        }
      ]
    }
  ]
}