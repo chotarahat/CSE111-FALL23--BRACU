{
  "nbformat": 4,
  "nbformat_minor": 0,
  "metadata": {
    "colab": {
      "provenance": []
    },
    "kernelspec": {
      "name": "python3",
      "display_name": "Python 3"
    },
    "language_info": {
      "name": "python"
    }
  },
  "cells": [
    {
      "cell_type": "code",
      "execution_count": null,
      "metadata": {
        "colab": {
          "base_uri": "https://localhost:8080/"
        },
        "id": "HjQcBBZinKBO",
        "outputId": "14b9ec3f-8474-4355-e414-93f554e594ea"
      },
      "outputs": [
        {
          "output_type": "stream",
          "name": "stdout",
          "text": [
            "Highest fee was 1000 tk which was paid by Neymar,Bale.\n"
          ]
        }
      ],
      "source": [
        "#task 01\n",
        "def hospital_fee(**n):\n",
        "  d=0\n",
        "  d1=[]\n",
        "  var=''\n",
        "  var1=''\n",
        "  for x,y in n.items():\n",
        "    if y>d:\n",
        "      max_amount=y\n",
        "      d=y\n",
        "  for k in n.keys():\n",
        "    if n[k]==max_amount:\n",
        "      d1.append(k)\n",
        "  if len(d1)>1:\n",
        "    for i in d1:\n",
        "      var=var+i+','\n",
        "      var1=var.strip(',')\n",
        "\n",
        "    max_payer=var1\n",
        "  else:\n",
        "    max_payer=d1[0]\n",
        "  print(f\"Highest fee was {max_amount} tk which was paid by {max_payer}.\")\n",
        "hospital_fee(Neymar =1000, Dembele = 600, Reus = 500, Bale = 1000)"
      ]
    },
    {
      "cell_type": "code",
      "source": [
        "#task 02\n",
        "def is_james_bond(n):\n",
        " a=0\n",
        " b=0\n",
        " if n.count(0)==2 and 7 in n:\n",
        "    for i in range(len(n)):\n",
        "      if n[i]==7:\n",
        "        a+=i\n",
        "        break\n",
        "    for i in range(len(n)):\n",
        "      if n[i]==0:\n",
        "       b+=i\n",
        "       break\n",
        "    if a<b:\n",
        "      print('false')\n",
        "    else:\n",
        "      print('true')\n",
        " else:\n",
        "  print('false')\n",
        "is_james_bond( [1, 0, 2, 0, 4, 7, 5] )"
      ],
      "metadata": {
        "colab": {
          "base_uri": "https://localhost:8080/"
        },
        "id": "iR23u_IxRfoe",
        "outputId": "046f0307-0ac2-4f77-f8e2-bd927660c0f1"
      },
      "execution_count": null,
      "outputs": [
        {
          "output_type": "stream",
          "name": "stdout",
          "text": [
            "true\n"
          ]
        }
      ]
    },
    {
      "cell_type": "code",
      "source": [
        "#task 03\n",
        "def assign_students_to_sections(letters,*n):\n",
        "  letters='ABCDE'\n",
        "  #n='Alice','Bob', 'Charlie', 'David', 'Eve', 'Frank', 'Grace'\n",
        "  d={}\n",
        "  nd={}\n",
        "  a=''\n",
        "  for i in n:\n",
        "    s=0\n",
        "    for j in i:\n",
        "      if ('a'<=j<='z') or ('A'<=j<='Z'):\n",
        "        s+=ord(j)\n",
        "    mod=s%5\n",
        "    k=letters[mod]\n",
        "    if k not in d:\n",
        "      d[k]=[]\n",
        "    d[k].append(i)\n",
        "    a+=k\n",
        "  for j in letters:\n",
        "      key=j\n",
        "      if j not in a:\n",
        "        value=[]\n",
        "      else:\n",
        "        value=d[j]\n",
        "      nd.update({key:value})\n",
        "  print(nd)\n",
        "\n",
        "assign_students_to_sections ('ABCDE', 'Alice','Bob', 'Charlie', 'David', 'Eve', 'Frank', 'Grace')"
      ],
      "metadata": {
        "colab": {
          "base_uri": "https://localhost:8080/"
        },
        "id": "7ZKjf9FTZxIB",
        "outputId": "9a370e72-d5a5-479f-f97b-9de4284fe4bb"
      },
      "execution_count": null,
      "outputs": [
        {
          "output_type": "stream",
          "name": "stdout",
          "text": [
            "{'A': ['Bob'], 'B': ['Charlie'], 'C': ['Grace'], 'D': ['Alice', 'David', 'Eve', 'Frank'], 'E': []}\n"
          ]
        }
      ]
    },
    {
      "cell_type": "code",
      "source": [
        "#task 04\n",
        "def user_name_generator(first_name, middle_name, last_name, student_id):\n",
        "    a=first_name[0:3].upper()\n",
        "    if middle_name=='':\n",
        "      b=''\n",
        "    else:\n",
        "      b=middle_name\n",
        "    c=last_name[len(last_name):-4:-1]\n",
        "    d=c[::-1]\n",
        "    e=student_id[len(student_id)-4::1]\n",
        "    s=(f\"{a}{b}{d}{'_'}{e}\")\n",
        "    return s\n",
        "print(user_name_generator (first_name=input('First name:'),middle_name=input('middle name:'),last_name=input('last name:'), student_id=input('student id:')))\n"
      ],
      "metadata": {
        "colab": {
          "base_uri": "https://localhost:8080/"
        },
        "id": "1Xj41RkBZaaO",
        "outputId": "30814db6-e456-4649-e7ae-5cc8694b7faf"
      },
      "execution_count": null,
      "outputs": [
        {
          "output_type": "stream",
          "name": "stdout",
          "text": [
            "First name:shakib\n",
            "middle name:\n",
            "last name:hasan\n",
            "student id:17305165\n",
            "SHAsan_5165\n"
          ]
        }
      ]
    },
    {
      "cell_type": "code",
      "source": [
        "#task 05\n",
        "def key_generator(*n):\n",
        "  v=''\n",
        "  l=[]\n",
        "  for i in n:\n",
        "    for j in range(-2,-len(i),-1):\n",
        "      y=ord(i[j])\n",
        "      v+=str(y)\n",
        "    x=i[0].lower()+v+i[len(i)-1].upper()\n",
        "    l.append(x)\n",
        "    v=''\n",
        "  return ('Encrypted_keys:',l)\n",
        "\n",
        "key_list = key_generator (\"Alex\",\"Bob\", \"Trudy\")\n",
        "print(key_list)\n"
      ],
      "metadata": {
        "colab": {
          "base_uri": "https://localhost:8080/"
        },
        "id": "Emakre82k4Ac",
        "outputId": "2edae29d-0c1f-4554-a301-bc9a5b4e40e7"
      },
      "execution_count": null,
      "outputs": [
        {
          "output_type": "stream",
          "name": "stdout",
          "text": [
            "('Encrypted_keys:', ['a101108X', 'b111B', 't100117114Y'])\n"
          ]
        }
      ]
    },
    {
      "cell_type": "code",
      "source": [
        "#task 06\n",
        "import random\n",
        "\n",
        "def playRockPaperScissor(rounds):\n",
        "  c=0\n",
        "  p=0\n",
        "  for i in range(rounds):\n",
        "    n=input()\n",
        "    lst=['rock','paper','scissors']\n",
        "    x=random.choice(lst)\n",
        "    print('Computer:',x)\n",
        "    if n==x:\n",
        "      c+=0\n",
        "      p+=0\n",
        "    elif n == 'rock' and x == 'scissors' or n == 'paper' and x == 'rock' or n == 'scissors' and x == 'paper':\n",
        "      p+=1\n",
        "    else:\n",
        "      c+=1\n",
        "\n",
        "  print('Your Score:',p)\n",
        "  print('Computer Score:',c)\n",
        "  if p>c:\n",
        "    print('You have won the game!')\n",
        "  elif c>p:\n",
        "    print('Computer has won the game!')\n",
        "  else:\n",
        "    print('the game was a tie')\n",
        "playRockPaperScissor(rounds=int(input()))\n"
      ],
      "metadata": {
        "colab": {
          "base_uri": "https://localhost:8080/"
        },
        "id": "mWGfYqxDtOiQ",
        "outputId": "8ac0c1fa-058b-4199-8b3a-ee68866988aa"
      },
      "execution_count": null,
      "outputs": [
        {
          "output_type": "stream",
          "name": "stdout",
          "text": [
            "2\n",
            "rock\n",
            "Computer: scissors\n",
            "rock\n",
            "Computer: scissors\n",
            "Your Score: 2\n",
            "Computer Score: 0\n",
            "You have won the game!\n"
          ]
        }
      ]
    }
  ]
}