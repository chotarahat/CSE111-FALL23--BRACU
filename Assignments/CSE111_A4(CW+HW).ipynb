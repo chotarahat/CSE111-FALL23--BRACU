{
  "nbformat": 4,
  "nbformat_minor": 0,
  "metadata": {
    "colab": {
      "provenance": []
    },
    "kernelspec": {
      "name": "python3",
      "display_name": "Python 3"
    },
    "language_info": {
      "name": "python"
    }
  },
  "cells": [
    {
      "cell_type": "markdown",
      "source": [
        "**CW**"
      ],
      "metadata": {
        "id": "zBWeHwEz8VA1"
      }
    },
    {
      "cell_type": "markdown",
      "source": [
        "**TASK 1**"
      ],
      "metadata": {
        "id": "mmY-wnvZysys"
      }
    },
    {
      "cell_type": "code",
      "execution_count": null,
      "metadata": {
        "colab": {
          "base_uri": "https://localhost:8080/"
        },
        "id": "c3-F8yAuqzZe",
        "outputId": "ccea1502-691e-4bea-d4e5-e388e137deaf"
      },
      "outputs": [
        {
          "output_type": "stream",
          "name": "stdout",
          "text": [
            "Name: Harry Potter \n",
            "ID: 123 \n",
            "Department: CSE\n",
            "Daily Effort:  0 hour(s)\n",
            "Suggestion: Should give more effort!\n",
            "Suggestion: Keep up the good work!\n",
            "========================\n",
            "Name: John Wick \n",
            "ID: 456 \n",
            "Department: BBA\n",
            "Daily Effort:  2 hour(s)\n",
            "Suggestion: Should give more effort!\n",
            "Suggestion: Keep up the good work!\n",
            "========================\n",
            "Name: Naruto Uzumaki \n",
            "ID: 777 \n",
            "Department: Ninja\n",
            "Daily Effort:  6 hour(s)\n",
            "Suggestion: Excellent! Now motivate others.\n"
          ]
        }
      ],
      "source": [
        "class Student:\n",
        "  def __init__(self,name,id,department =\"CSE\"):\n",
        "    self.name = name\n",
        "    self.id = id\n",
        "    self.department = department\n",
        "    self.time = 0\n",
        "\n",
        "  def dailyEffort(self,time):\n",
        "    self.time = time\n",
        "\n",
        "  def printDetails(self):\n",
        "    print(f\"Name: {self.name} \\nID: {self.id} \\nDepartment: {self.department}\")\n",
        "    print(\"Daily Effort: \",self.time,\"hour(s)\")\n",
        "    if self.time<=2:\n",
        "      print( 'Suggestion: Should give more effort!')\n",
        "    if self.time<=4:\n",
        "      print('Suggestion: Keep up the good work!')\n",
        "    else:\n",
        "      print('Suggestion: Excellent! Now motivate others.')\n",
        "\n",
        "\n",
        "harry = Student('Harry Potter', 123)\n",
        "harry.dailyEffort(3)\n",
        "harry.printDetails()\n",
        "print('========================')\n",
        "john = Student(\"John Wick\", 456, \"BBA\")\n",
        "john.dailyEffort(2)\n",
        "john.printDetails()\n",
        "print('========================')\n",
        "naruto = Student(\"Naruto Uzumaki\", 777, \"Ninja\")\n",
        "naruto.dailyEffort(6)\n",
        "naruto.printDetails()\n"
      ]
    },
    {
      "cell_type": "markdown",
      "source": [
        "**TASK 2**"
      ],
      "metadata": {
        "id": "Y8e-19WAypNC"
      }
    },
    {
      "cell_type": "code",
      "source": [
        "class Farmer:\n",
        "  def __init__(self,check=None):\n",
        "    self.check = check\n",
        "    if isinstance(self.check,str):\n",
        "      print(\"Welcome to your farm,\",self.check,\"!\")\n",
        "    if isinstance(self.check,int):\n",
        "      print(\"Welcome to your farm. Your farm ID is \",self.check,\"!\")\n",
        "    if type(self.check)==None:\n",
        "      print(\"Welcome to your farm!\")\n",
        "    self.crops = []\n",
        "    self.fishes =[]\n",
        "\n",
        "\n",
        "  def addCrops(self,*args):\n",
        "    if len(args)==0:\n",
        "      print(\"No crop(s) added\")\n",
        "    else:\n",
        "      for i in args:\n",
        "        self.crops.append(i)\n",
        "      print(len(self.crops),\"crop(s) added.\")\n",
        "\n",
        "  def addFishes(self,*args):\n",
        "    if len(args)==0:\n",
        "      print(\"No fish(s) added\")\n",
        "    else:\n",
        "      for i in args:\n",
        "        self.fishes.append(i)\n",
        "      print(len(self.fishes),\"fish(s) added.\")\n",
        "  def showGoods(self):\n",
        "    if len(self.crops) == 0:\n",
        "      print(\"You don't have any crop(s).\")\n",
        "    elif len(self.crops)!=0:\n",
        "      print(\"You have\",len(self.crops),\"(s):\",self.crops)\n",
        "    if len(self.fishes)==0:\n",
        "      print(\"You don't have any fish(s).\")\n",
        "    elif len(self.fishes)!= 0:\n",
        "      print(\"You have\",len(self.fishes),\"(s):\",self.fishes)\n",
        "\n",
        "\n",
        "\n",
        "f1 = Farmer()\n",
        "print(\"-------------------\")\n",
        "f1.addCrops('Rice', \"Jute\", \"Cinnamon\")\n",
        "print(\"-------------------\")\n",
        "f1.addFishes()\n",
        "print(\"-------------------\")\n",
        "f1.addCrops('Mustard')\n",
        "print(\"-------------------\")\n",
        "f1.showGoods()\n",
        "print(\"-------------------\")\n",
        "\n",
        "\n",
        "# f2 = Farmer(\"Korim Mia\")\n",
        "# print(\"-------------------\")\n",
        "# f2.addFishes('Pangash', 'Magur')\n",
        "# print(\"-------------------\")\n",
        "#f2.addCrops(\"Wheat\", \"Potato\")\n",
        "#print(\"-------------------\")\n",
        "# f2.addFishes(\"Koi\", \"Tuna\", \"Sardine\")\n",
        "# print(\"-------------------\")\n",
        "# f2.showGoods()\n",
        "# print(\"-------------------\")\n",
        "# f3 = Farmer(2865127000)\n",
        "# print(\"-------------------\")\n",
        "#f3.addCrops()\n",
        "#print(\"-------------------\")\n",
        "# f3.addFishes(\"Katla\")\n",
        "# print(\"-------------------\")\n",
        "# f3.showGoods()\n",
        "# print(\"-------------------\")\n"
      ],
      "metadata": {
        "colab": {
          "base_uri": "https://localhost:8080/"
        },
        "id": "t0UXbA9qyo2r",
        "outputId": "1ad0a211-d0b4-40ad-d7c4-310d0f585eaf"
      },
      "execution_count": null,
      "outputs": [
        {
          "output_type": "stream",
          "name": "stdout",
          "text": [
            "-------------------\n",
            "3 crop(s) added.\n",
            "-------------------\n",
            "No fish(s) added\n",
            "-------------------\n",
            "4 crop(s) added.\n",
            "-------------------\n",
            "You have 4 (s): ['Rice', 'Jute', 'Cinnamon', 'Mustard']\n",
            "You don't have any fish(s).\n",
            "-------------------\n"
          ]
        }
      ]
    },
    {
      "cell_type": "markdown",
      "source": [
        "**TASK 3**"
      ],
      "metadata": {
        "id": "MMwJwLgI7xEx"
      }
    },
    {
      "cell_type": "code",
      "source": [
        "class TaxiLagbe:\n",
        "  def __init__(self, taxiNo, area):\n",
        "    self.taxiNo = taxiNo\n",
        "    self.area = area\n",
        "    self.passengerList = []\n",
        "    self.totalFare = 0\n",
        "\n",
        "  def addPassenger(self, *args):\n",
        "    for passenger in args:\n",
        "      if len(self.passengerList) < 4:\n",
        "        name, fare = passenger.split('_')\n",
        "        self.passengerList.append(name)\n",
        "        self.totalFare += int(fare)\n",
        "        print(f'Dear {name}! Welcome to TaxiLagbe.')\n",
        "      else:\n",
        "        print('Taxi Full! No more passengers can be added.')\n",
        "        break\n",
        "\n",
        "  def printDetails(self):\n",
        "    print(f'Trip info for Taxi number: {self.taxiNo}')\n",
        "    print(f'This taxi can only cover the {self.area} area.')\n",
        "    print(f'Total passengers: {len(self.passengerList)}')\n",
        "    print('Passenger lists:')\n",
        "    print(', '.join(self.passengerList))\n",
        "    print(f'Total collected fare: {self.totalFare} Taka')\n",
        "\n",
        "taxi1 = TaxiLagbe('1010-01', 'Dhaka')\n",
        "print('-------------------------------')\n",
        "taxi1.addPassenger('Walker_100',\n",
        "'Wood_200','Matt_100')\n",
        "taxi1.addPassenger('Wilson_105')\n",
        "print('-------------------------------')\n",
        "taxi1.printDetails()\n",
        "print('-------------------------------')\n",
        "taxi1.addPassenger('Karen_200')\n",
        "print('-------------------------------')\n",
        "taxi1.printDetails()\n",
        "print('-------------------------------')\n",
        "taxi2 = TaxiLagbe('1010-02', 'Khulna')\n",
        "taxi2.addPassenger('Ronald_115', 'Parker_215')\n",
        "print('-------------------------------')\n",
        "taxi2.printDetails()"
      ],
      "metadata": {
        "id": "RSXKtZuy_x4C",
        "colab": {
          "base_uri": "https://localhost:8080/"
        },
        "outputId": "8ca0d8f8-ec8d-4279-a2d5-15640d251843"
      },
      "execution_count": 2,
      "outputs": [
        {
          "output_type": "stream",
          "name": "stdout",
          "text": [
            "-------------------------------\n",
            "Dear Walker! Welcome to TaxiLagbe.\n",
            "Dear Wood! Welcome to TaxiLagbe.\n",
            "Dear Matt! Welcome to TaxiLagbe.\n",
            "Dear Wilson! Welcome to TaxiLagbe.\n",
            "-------------------------------\n",
            "Trip info for Taxi number: 1010-01\n",
            "This taxi can only cover the Dhaka area.\n",
            "Total passengers: 4\n",
            "Passenger lists:\n",
            "Walker, Wood, Matt, Wilson\n",
            "Total collected fare: 505 Taka\n",
            "-------------------------------\n",
            "Taxi Full! No more passengers can be added.\n",
            "-------------------------------\n",
            "Trip info for Taxi number: 1010-01\n",
            "This taxi can only cover the Dhaka area.\n",
            "Total passengers: 4\n",
            "Passenger lists:\n",
            "Walker, Wood, Matt, Wilson\n",
            "Total collected fare: 505 Taka\n",
            "-------------------------------\n",
            "Dear Ronald! Welcome to TaxiLagbe.\n",
            "Dear Parker! Welcome to TaxiLagbe.\n",
            "-------------------------------\n",
            "Trip info for Taxi number: 1010-02\n",
            "This taxi can only cover the Khulna area.\n",
            "Total passengers: 2\n",
            "Passenger lists:\n",
            "Ronald, Parker\n",
            "Total collected fare: 330 Taka\n"
          ]
        }
      ]
    },
    {
      "cell_type": "markdown",
      "source": [
        "**TASK 4**"
      ],
      "metadata": {
        "id": "X7xak8cg8Bej"
      }
    },
    {
      "cell_type": "code",
      "source": [
        "class Sphere:\n",
        "  def __init__(self, name, radius=1, color=\"White\"):\n",
        "    self.name = name\n",
        "    self.radius = radius\n",
        "    self.color = color\n",
        "    self.volume = (4/3) * 3.1416 * (self.radius ** 3)\n",
        "\n",
        "  def printDetails(self):\n",
        "    print(f\"Sphere name: {self.name}\")\n",
        "    print(f\"Volume: {self.volume}\")\n",
        "    print(f\"Color: {self.color}\")\n",
        "\n",
        "  def merge_sphere(self, *others):\n",
        "    total_volume = self.volume\n",
        "    colors = {self.color}\n",
        "\n",
        "    for other in others:\n",
        "      total_volume += other.volume\n",
        "      colors.add(other.color)\n",
        "\n",
        "    self.volume = total_volume\n",
        "    self.radius = ((3 * self.volume) / (4 * 3.1416)) ** (1/3)\n",
        "    self.color = \"Mixed Color\" if len(colors) > 1 else self.color\n",
        "\n",
        "sphere1 = Sphere(\"Sphere 1\")\n",
        "print(\"1***************\")\n",
        "sphere1.printDetails()\n",
        "print(\"2***************\")\n",
        "sphere2 = Sphere(\"Sphere 2\", 3)\n",
        "print(\"3***************\")\n",
        "sphere2.printDetails()\n",
        "print(\"4***************\")\n",
        "sphere3 = Sphere(\"Sphere 3\", 2)\n",
        "print(\"5***************\")\n",
        "sphere3.printDetails()\n",
        "print(\"6***************\")\n",
        "sphere3.merge_sphere(sphere1,sphere2)\n",
        "print(\"7***************\")\n",
        "sphere3.printDetails()\n",
        "print(\"8***************\")\n",
        "sphere4 = Sphere(\"Sphere 4\", 5, \"Purple\")\n",
        "print(\"9***************\")\n",
        "sphere4.merge_sphere(sphere3)\n",
        "print(\"10***************\")\n",
        "sphere4.printDetails()"
      ],
      "metadata": {
        "colab": {
          "base_uri": "https://localhost:8080/"
        },
        "id": "rjznHbWw8Ej8",
        "outputId": "316700f5-b0a6-410f-e031-e19c07f712ad"
      },
      "execution_count": 3,
      "outputs": [
        {
          "output_type": "stream",
          "name": "stdout",
          "text": [
            "1***************\n",
            "Sphere name: Sphere 1\n",
            "Volume: 4.1888\n",
            "Color: White\n",
            "2***************\n",
            "3***************\n",
            "Sphere name: Sphere 2\n",
            "Volume: 113.09759999999999\n",
            "Color: White\n",
            "4***************\n",
            "5***************\n",
            "Sphere name: Sphere 3\n",
            "Volume: 33.5104\n",
            "Color: White\n",
            "6***************\n",
            "7***************\n",
            "Sphere name: Sphere 3\n",
            "Volume: 150.7968\n",
            "Color: White\n",
            "8***************\n",
            "9***************\n",
            "10***************\n",
            "Sphere name: Sphere 4\n",
            "Volume: 674.3967999999999\n",
            "Color: Mixed Color\n"
          ]
        }
      ]
    },
    {
      "cell_type": "markdown",
      "source": [
        "**HW**"
      ],
      "metadata": {
        "id": "xyFWZs028bc4"
      }
    },
    {
      "cell_type": "markdown",
      "source": [
        "**TASK 1**"
      ],
      "metadata": {
        "id": "hotVpJy78bOj"
      }
    },
    {
      "cell_type": "code",
      "source": [
        "class Student:\n",
        "  def __init__(self, name, cgpa, credit=9, department=\"CSE\"):\n",
        "    self.name = name\n",
        "    self.cgpa = cgpa\n",
        "    self.credit = credit\n",
        "    self.department = department\n",
        "    self.scholarship = \"No scholarship\"\n",
        "\n",
        "  def checkScholarshipEligibility(self):\n",
        "    if self.cgpa >= 3.5 and self.credit > 10:\n",
        "      if self.cgpa >= 3.7:\n",
        "        self.scholarship = \"Merit-based scholarship\"\n",
        "        print(f\"{self.name} is eligible for Merit-based scholarship.\")\n",
        "      else:\n",
        "        self.scholarship = \"Need-based scholarship\"\n",
        "        print(f\"{self.name} is eligible for Need-based scholarship.\")\n",
        "    else:\n",
        "      print(f\"{self.name} is not eligible for scholarship.\")\n",
        "\n",
        "  def showDetails(self):\n",
        "    print(f\"Name: {self.name}\")\n",
        "    print(f\"Department: {self.department}\")\n",
        "    print(f\"CGPA: {self.cgpa}\")\n",
        "    print(f\"Number of Credits: {self.credit}\")\n",
        "    print(f\"Scholarship Status: {self.scholarship}\")\n",
        "\n",
        "\n",
        "print('--------------------------')\n",
        "std1 = Student(\"Alif\", 3.99, 12)\n",
        "print('--------------------------')\n",
        "std1.checkScholarshipEligibility()\n",
        "print('--------------------------')\n",
        "std1.showDetails()\n",
        "print('--------------------------')\n",
        "std2 = Student(\"Mim\", 3.4)\n",
        "std3 = Student(\"Henry\", 3.5, 15,\"BBA\")\n",
        "print('--------------------------')\n",
        "std2.checkScholarshipEligibility()\n",
        "print('--------------------------')\n",
        "std3.checkScholarshipEligibility()\n",
        "print('--------------------------')\n",
        "std2.showDetails()\n",
        "print('--------------------------')\n",
        "std3.showDetails()\n",
        "print('--------------------------')\n",
        "std4 = Student(\"Bob\", 4.0, 6, \"CSE\")\n",
        "print('--------------------------')\n",
        "std4.checkScholarshipEligibility()\n",
        "print('--------------------------')\n",
        "std4.showDetails()"
      ],
      "metadata": {
        "colab": {
          "base_uri": "https://localhost:8080/"
        },
        "id": "uKHmHbuD8frq",
        "outputId": "538bc1a4-51c0-488e-8f65-d1e1923e737e"
      },
      "execution_count": 4,
      "outputs": [
        {
          "output_type": "stream",
          "name": "stdout",
          "text": [
            "--------------------------\n",
            "--------------------------\n",
            "Alif is eligible for Merit-based scholarship.\n",
            "--------------------------\n",
            "Name: Alif\n",
            "Department: CSE\n",
            "CGPA: 3.99\n",
            "Number of Credits: 12\n",
            "Scholarship Status: Merit-based scholarship\n",
            "--------------------------\n",
            "--------------------------\n",
            "Mim is not eligible for scholarship.\n",
            "--------------------------\n",
            "Henry is eligible for Need-based scholarship.\n",
            "--------------------------\n",
            "Name: Mim\n",
            "Department: CSE\n",
            "CGPA: 3.4\n",
            "Number of Credits: 9\n",
            "Scholarship Status: No scholarship\n",
            "--------------------------\n",
            "Name: Henry\n",
            "Department: BBA\n",
            "CGPA: 3.5\n",
            "Number of Credits: 15\n",
            "Scholarship Status: Need-based scholarship\n",
            "--------------------------\n",
            "--------------------------\n",
            "Bob is not eligible for scholarship.\n",
            "--------------------------\n",
            "Name: Bob\n",
            "Department: CSE\n",
            "CGPA: 4.0\n",
            "Number of Credits: 6\n",
            "Scholarship Status: No scholarship\n"
          ]
        }
      ]
    },
    {
      "cell_type": "markdown",
      "source": [
        "**TASK 2**"
      ],
      "metadata": {
        "id": "hGR7IsLG87_H"
      }
    },
    {
      "cell_type": "code",
      "source": [
        "class Foodie:\n",
        "  def __init__(self, name):\n",
        "    self.name = name\n",
        "    self.items = []\n",
        "    self.total_spent = 0\n",
        "    self.tips = 0\n",
        "\n",
        "  def order(self, *orders):\n",
        "    for entry in orders:\n",
        "      food, qty = entry.split('-')\n",
        "      qty = int(qty)\n",
        "      price = menu[food]\n",
        "      total_price = price * qty\n",
        "      print(f\"Ordered - {food}, quantity - {qty}, price (per Unit) - {price}.\")\n",
        "      print(f\"Total price - {total_price}\")\n",
        "      self.items.append(food)\n",
        "      self.total_spent += total_price\n",
        "\n",
        "  def pay_tips(self, amount=0):\n",
        "    self.tips += amount\n",
        "    if amount > 0:\n",
        "      print(f\"Gives {amount}/- tips to the waiter.\")\n",
        "    else:\n",
        "      print(\"No tips to the waiter.\")\n",
        "    self.total_spent += amount\n",
        "\n",
        "  def show_orders(self):\n",
        "    print(f\"{self.name} has {len(self.items)} item(s) in the cart.\")\n",
        "    print(f\"Items: {self.items}\")\n",
        "    print(f\"Total spent: {self.total_spent}.\")\n",
        "    return \"\"\n",
        "\n",
        "\n",
        "menu = {'Chicken Lollipop':15,'Beef Nugget':20,'Americano':180,'Red Velvet':150,'Prawn Tempura':80,'Saute Veg':200}\n",
        "f1 = Foodie('Frodo')\n",
        "print(f1.show_orders())\n",
        "print('1----------------------')\n",
        "f1.order('Chicken Lollipop-3','Beef Nugget-6','Americano-1')\n",
        "print('2----------------------')\n",
        "print(f1.show_orders())\n",
        "print('3----------------------')\n",
        "f1.order('Red Velvet-1')\n",
        "print('4----------------------')\n",
        "f1.pay_tips(20)\n",
        "print('5----------------------')\n",
        "print(f1.show_orders())\n",
        "f2 = Foodie('Bilbo')\n",
        "print('6----------------------')\n",
        "f2.order('Prawn Tempura-6','Saute Veg-1')\n",
        "print('7----------------------')\n",
        "f2.pay_tips()\n",
        "print('8----------------------')\n",
        "print(f2.show_orders())"
      ],
      "metadata": {
        "colab": {
          "base_uri": "https://localhost:8080/"
        },
        "id": "CAKdofGG8-oj",
        "outputId": "ff7df909-8cf7-4fbd-f8b6-0fc14b7cf0ec"
      },
      "execution_count": 7,
      "outputs": [
        {
          "output_type": "stream",
          "name": "stdout",
          "text": [
            "Frodo has 0 item(s) in the cart.\n",
            "Items: []\n",
            "Total spent: 0.\n",
            "\n",
            "1----------------------\n",
            "Ordered - Chicken Lollipop, quantity - 3, price (per Unit) - 15.\n",
            "Total price - 45\n",
            "Ordered - Beef Nugget, quantity - 6, price (per Unit) - 20.\n",
            "Total price - 120\n",
            "Ordered - Americano, quantity - 1, price (per Unit) - 180.\n",
            "Total price - 180\n",
            "2----------------------\n",
            "Frodo has 3 item(s) in the cart.\n",
            "Items: ['Chicken Lollipop', 'Beef Nugget', 'Americano']\n",
            "Total spent: 345.\n",
            "\n",
            "3----------------------\n",
            "Ordered - Red Velvet, quantity - 1, price (per Unit) - 150.\n",
            "Total price - 150\n",
            "4----------------------\n",
            "Gives 20/- tips to the waiter.\n",
            "5----------------------\n",
            "Frodo has 4 item(s) in the cart.\n",
            "Items: ['Chicken Lollipop', 'Beef Nugget', 'Americano', 'Red Velvet']\n",
            "Total spent: 515.\n",
            "\n",
            "6----------------------\n",
            "Ordered - Prawn Tempura, quantity - 6, price (per Unit) - 80.\n",
            "Total price - 480\n",
            "Ordered - Saute Veg, quantity - 1, price (per Unit) - 200.\n",
            "Total price - 200\n",
            "7----------------------\n",
            "No tips to the waiter.\n",
            "8----------------------\n",
            "Bilbo has 2 item(s) in the cart.\n",
            "Items: ['Prawn Tempura', 'Saute Veg']\n",
            "Total spent: 680.\n",
            "\n"
          ]
        }
      ]
    },
    {
      "cell_type": "markdown",
      "source": [
        "**TASK 3**"
      ],
      "metadata": {
        "id": "ey_QdPnY9eJb"
      }
    },
    {
      "cell_type": "code",
      "source": [
        "class Department:\n",
        "  def __init__(self, name=\"ChE Department\", sections=5):\n",
        "    self.name = name\n",
        "    self.sections = sections\n",
        "    self.total_students = 0\n",
        "    self.avg_students = 0\n",
        "    print(f\"The {self.name} has {self.sections} sections.\")\n",
        "\n",
        "  def add_students(self, *students):\n",
        "    if len(students) == self.sections:\n",
        "      self.total_students = sum(students)\n",
        "      self.avg_students = round(self.total_students / self.sections, 2)\n",
        "      print(f\"The {self.name} has an average of {self.avg_students} students in each section.\")\n",
        "    else:\n",
        "      print(f\"The {self.name} doesn't have {len(students)} sections.\")\n",
        "\n",
        "  def merge_Department(self, *others):\n",
        "    print_statements = []\n",
        "    total_students = self.avg_students * self.sections\n",
        "\n",
        "    for dept in others:\n",
        "      print_statements.append(f\"{dept.name} is merged to {self.name}.\")\n",
        "      total_students += dept.avg_students * dept.sections\n",
        "\n",
        "    self.avg_students = round(total_students / self.sections, 2)\n",
        "    print_statements.append(f\"Now the {self.name} has an average of {self.avg_students} students in each section.\")\n",
        "    return \"\\n\".join(print_statements)\n",
        "\n",
        "\n",
        "d1 = Department()\n",
        "print('1-----------------------------')\n",
        "d2 = Department('MME Department')\n",
        "print('2-----------------------------')\n",
        "d3 = Department('NCE Department', 8)\n",
        "print('3-----------------------------')\n",
        "d1.add_students(12, 23, 12, 34, 21)\n",
        "print('4-----------------------------')\n",
        "d2.add_students(40, 30, 21)\n",
        "print('5-----------------------------')\n",
        "d3.add_students(12, 34, 41, 17, 30, 22,\n",
        "32, 51)\n",
        "print('6-----------------------------')\n",
        "mega = Department('Engineering Department', 10)\n",
        "print('7-----------------------------')\n",
        "mega.add_students(21,30,40,36,10,32,27,\n",
        " 51,45,15)\n",
        "print('8-----------------------------')\n",
        "print(mega.merge_Department(d1, d2))\n",
        "print('9-----------------------------')\n",
        "print(mega.merge_Department(d3))\n",
        "\n"
      ],
      "metadata": {
        "colab": {
          "base_uri": "https://localhost:8080/"
        },
        "id": "bVolSlnN9gFB",
        "outputId": "fd31e299-bd0a-4d72-ecb3-6149c4d499c7"
      },
      "execution_count": 8,
      "outputs": [
        {
          "output_type": "stream",
          "name": "stdout",
          "text": [
            "The ChE Department has 5 sections.\n",
            "1-----------------------------\n",
            "The MME Department has 5 sections.\n",
            "2-----------------------------\n",
            "The NCE Department has 8 sections.\n",
            "3-----------------------------\n",
            "The ChE Department has an average of 20.4 students in each section.\n",
            "4-----------------------------\n",
            "The MME Department doesn't have 3 sections.\n",
            "5-----------------------------\n",
            "The NCE Department has an average of 29.88 students in each section.\n",
            "6-----------------------------\n",
            "The Engineering Department has 10 sections.\n",
            "7-----------------------------\n",
            "The Engineering Department has an average of 30.7 students in each section.\n",
            "8-----------------------------\n",
            "ChE Department is merged to Engineering Department.\n",
            "MME Department is merged to Engineering Department.\n",
            "Now the Engineering Department has an average of 40.9 students in each section.\n",
            "9-----------------------------\n",
            "NCE Department is merged to Engineering Department.\n",
            "Now the Engineering Department has an average of 64.8 students in each section.\n"
          ]
        }
      ]
    },
    {
      "cell_type": "markdown",
      "source": [
        "**TASK 4**"
      ],
      "metadata": {
        "id": "0nequUao9wGV"
      }
    },
    {
      "cell_type": "code",
      "source": [
        "class Shopidify:\n",
        "  def __init__(self, name=\"Guest\"):\n",
        "    self.name = name\n",
        "    self.cart = {}\n",
        "    self.history = []\n",
        "    if self.name == \"Guest\":\n",
        "      print(\"Welcome to Shopidify\")\n",
        "    else:\n",
        "      print(f\"Welcome {self.name} to Shopidify\")\n",
        "\n",
        "  def add_to_cart(self, *args):\n",
        "    if len(args) == 1 and isinstance(args[0], list):\n",
        "      items = args[0]\n",
        "      for i in range(0, len(items), 2):\n",
        "        item = items[i]\n",
        "        qty = items[i+1]\n",
        "        self.cart[item] = self.cart.get(item, 0) + qty\n",
        "    elif len(args) == 1:\n",
        "      item = args[0]\n",
        "      self.cart[item] = self.cart.get(item, 0) + 1\n",
        "    elif len(args) == 2:\n",
        "      item, qty = args\n",
        "      self.cart[item] = self.cart.get(item, 0) + qty\n",
        "\n",
        "  def display_cart(self):\n",
        "    print(f\"Items in the cart for {self.name}: \", end=\"\")\n",
        "    for item, qty in self.cart.items():\n",
        "      print(f\" - {item}: {qty}x\", end=\"\")\n",
        "    print()\n",
        "\n",
        "  def checkout(self):\n",
        "    print(f\"Checkout completed for {self.name}\")\n",
        "    self.history.append(self.cart.copy())\n",
        "    self.cart.clear()\n",
        "\n",
        "  def display_history(self):\n",
        "    print(f\"Purchase history for {self.name}:\")\n",
        "    for i, transaction in enumerate(self.history, 1):\n",
        "      print(f\"Transaction {i}:\", end=\"\")\n",
        "      for item, qty in transaction.items():\n",
        "        print(f\" - {item}: {qty}x\", end=\"\")\n",
        "      print()\n",
        "\n",
        "\n",
        "guest_account = Shopidify()\n",
        "print(\"1xxxxxxxxxxxxxxxxxxxxxxxxxxxxxxxxx\")\n",
        "john_account = Shopidify(\"John\")\n",
        "print(\"2xxxxxxxxxxxxxxxxxxxxxxxxxxxxxxxxx\")\n",
        "guest_account.add_to_cart(\"Air Jordan\", 2)\n",
        "guest_account.add_to_cart(\"Luffy Action Figure\")\n",
        "guest_account.display_cart()\n",
        "print(\"3xxxxxxxxxxxxxxxxxxxxxxxxxxxxxxxxx\")\n",
        "john_account.add_to_cart([\"Chocolate Chip Cookies\", 3,\"Goku Action Figure\",2,\"Dumbbells-5kg\",2])\n",
        "john_account.display_cart()\n",
        "print(\"4xxxxxxxxxxxxxxxxxxxxxxxxxxxxxxxxx\")\n",
        "guest_account.add_to_cart(\"Air Jordan\")\n",
        "guest_account.display_cart()\n",
        "print(\"5xxxxxxxxxxxxxxxxxxxxxxxxxxxxxxxxx\")\n",
        "guest_account.checkout()\n",
        "print(\"6xxxxxxxxxxxxxxxxxxxxxxxxxxxxxxxxx\")\n",
        "guest_account.display_history()\n",
        "print(\"7xxxxxxxxxxxxxxxxxxxxxxxxxxxxxxxxx\")\n",
        "john_account.checkout()\n",
        "print(\"8xxxxxxxxxxxxxxxxxxxxxxxxxxxxxxxxx\")\n",
        "john_account.display_history()\n",
        "print(\"9xxxxxxxxxxxxxxxxxxxxxxxxxxxxxxxx\")"
      ],
      "metadata": {
        "colab": {
          "base_uri": "https://localhost:8080/"
        },
        "id": "GG6BUPwk9yWi",
        "outputId": "4c77e4ef-ea63-4f8a-ad9e-e4dad0129efb"
      },
      "execution_count": 14,
      "outputs": [
        {
          "output_type": "stream",
          "name": "stdout",
          "text": [
            "Welcome to Shopidify\n",
            "1xxxxxxxxxxxxxxxxxxxxxxxxxxxxxxxxx\n",
            "Welcome John to Shopidify\n",
            "2xxxxxxxxxxxxxxxxxxxxxxxxxxxxxxxxx\n",
            "Items in the cart for Guest:  - Air Jordan: 2x - Luffy Action Figure: 1x\n",
            "3xxxxxxxxxxxxxxxxxxxxxxxxxxxxxxxxx\n",
            "Items in the cart for John:  - Chocolate Chip Cookies: 3x - Goku Action Figure: 2x - Dumbbells-5kg: 2x\n",
            "4xxxxxxxxxxxxxxxxxxxxxxxxxxxxxxxxx\n",
            "Items in the cart for Guest:  - Air Jordan: 3x - Luffy Action Figure: 1x\n",
            "5xxxxxxxxxxxxxxxxxxxxxxxxxxxxxxxxx\n",
            "Checkout completed for Guest\n",
            "6xxxxxxxxxxxxxxxxxxxxxxxxxxxxxxxxx\n",
            "Purchase history for Guest:\n",
            "Transaction 1: - Air Jordan: 3x - Luffy Action Figure: 1x\n",
            "7xxxxxxxxxxxxxxxxxxxxxxxxxxxxxxxxx\n",
            "Checkout completed for John\n",
            "8xxxxxxxxxxxxxxxxxxxxxxxxxxxxxxxxx\n",
            "Purchase history for John:\n",
            "Transaction 1: - Chocolate Chip Cookies: 3x - Goku Action Figure: 2x - Dumbbells-5kg: 2x\n",
            "9xxxxxxxxxxxxxxxxxxxxxxxxxxxxxxxx\n"
          ]
        }
      ]
    },
    {
      "cell_type": "markdown",
      "source": [
        "**TASK 5**"
      ],
      "metadata": {
        "id": "a4WaKCnT-0Vy"
      }
    },
    {
      "cell_type": "code",
      "source": [
        "class Author:\n",
        "  def __init__(self, name=None):\n",
        "    self.name = name\n",
        "    self.books = {}\n",
        "\n",
        "  def setName(self, name):\n",
        "    self.name = name\n",
        "\n",
        "  def addBook(self, title, genre):\n",
        "    if self.name is None:\n",
        "      print(\"=============================\")\n",
        "      print(\"A book can not be added without author name\")\n",
        "      print(\"=============================\")\n",
        "      return\n",
        "    if genre not in self.books:\n",
        "      self.books[genre] = []\n",
        "    if title not in self.books[genre]:\n",
        "      self.books[genre].append(title)\n",
        "\n",
        "  def printDetail(self):\n",
        "    print(\"=============================\")\n",
        "    total_books = sum(len(titles) for titles in self.books.values())\n",
        "    print(f\"Number of Book(s): {total_books}\")\n",
        "    print(f\"Author Name: {self.name}\")\n",
        "    for genre, titles in self.books.items():\n",
        "      print(f\"{genre}: {', '.join(titles)}\")\n",
        "\n",
        "\n",
        "\n",
        "a1 = Author()\n",
        "print(\"=================================\")\n",
        "a1.addBook(\"Ice\", \"Science Fiction\")\n",
        "print(\"=================================\")\n",
        "a1.setName(\"Anna Kavan\")\n",
        "a1.addBook(\"Ice\", \"Science Fiction\")\n",
        "a1.printDetail()\n",
        "print(\"=================================\")\n",
        "a2 = Author(\"Humayun Ahmed\")\n",
        "a2.addBook(\"Onnobhubon\", \"Science Fiction\")\n",
        "a2.addBook(\"Megher Upor Bari\", \"Horror\")\n",
        "print(\"=================================\")\n",
        "a2.printDetail()\n",
        "a2.addBook(\"Ireena\", \"Science Fiction\")\n",
        "print(\"=================================\")\n",
        "a2.printDetail()\n",
        "print(\"=================================\")"
      ],
      "metadata": {
        "colab": {
          "base_uri": "https://localhost:8080/"
        },
        "id": "9mPkgNPp-2V9",
        "outputId": "3c36b76f-878b-4b7e-d24e-e2620a537b8c"
      },
      "execution_count": 16,
      "outputs": [
        {
          "output_type": "stream",
          "name": "stdout",
          "text": [
            "=================================\n",
            "=============================\n",
            "A book can not be added without author name\n",
            "=============================\n",
            "=================================\n",
            "=============================\n",
            "Number of Book(s): 1\n",
            "Author Name: Anna Kavan\n",
            "Science Fiction: Ice\n",
            "=================================\n",
            "=================================\n",
            "=============================\n",
            "Number of Book(s): 2\n",
            "Author Name: Humayun Ahmed\n",
            "Science Fiction: Onnobhubon\n",
            "Horror: Megher Upor Bari\n",
            "=================================\n",
            "=============================\n",
            "Number of Book(s): 3\n",
            "Author Name: Humayun Ahmed\n",
            "Science Fiction: Onnobhubon, Ireena\n",
            "Horror: Megher Upor Bari\n",
            "=================================\n"
          ]
        }
      ]
    }
  ]
}