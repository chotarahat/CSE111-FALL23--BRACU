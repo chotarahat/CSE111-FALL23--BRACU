{
  "nbformat": 4,
  "nbformat_minor": 0,
  "metadata": {
    "colab": {
      "provenance": []
    },
    "kernelspec": {
      "name": "python3",
      "display_name": "Python 3"
    },
    "language_info": {
      "name": "python"
    }
  },
  "cells": [
    {
      "cell_type": "markdown",
      "source": [],
      "metadata": {
        "id": "GR8n7AOK91Gl"
      }
    },
    {
      "cell_type": "markdown",
      "source": [
        "***TASK 1***"
      ],
      "metadata": {
        "id": "GbDcxa0m0YV1"
      }
    },
    {
      "cell_type": "code",
      "execution_count": null,
      "metadata": {
        "colab": {
          "base_uri": "https://localhost:8080/"
        },
        "id": "sEFwgFR00T-F",
        "outputId": "9f918fb2-acc6-41e8-ec57-7a09f0b424f9"
      },
      "outputs": [
        {
          "output_type": "stream",
          "name": "stdout",
          "text": [
            "ID: 1\n",
            "Name: Samin\n",
            "Department: CSE\n",
            "Age: 21\n",
            "CGPA:  3.91\n",
            "-----------------------\n",
            "ID: 2\n",
            "Name: Fahim\n",
            "Department: ECE\n",
            "Age: 21\n",
            "CGPA:  3.85\n",
            "-----------------------\n",
            "ID: 3\n",
            "Name: Tahura\n",
            "Department: EEE\n",
            "Age: 22\n",
            "CGPA:  3.01\n",
            "-----------------------\n",
            "ID: 4\n",
            "Name: Sumaiya\n",
            "Department: BBA\n",
            "Age: 23\n",
            "CGPA:  3.96\n",
            "\n",
            "Class variables are shared by all instances of a class.They are defined within a class but outside any of the class’s methods. Class variables are not used as often as instance variables and\n",
            "instance variables are unique to each instance of a class.They are defined within methods and are used for the data that is unique to each instance.\n",
            "\n",
            "Instance methods are methods that are bound to the instance of the class. They can access and modify instance variables of the class and \n",
            "Class methods are methods that are bound to the class and not the instance of the class.They can’t access or modify instance variables.\n",
            "However, they can access and modify class variables.\n"
          ]
        }
      ],
      "source": [
        "class Student:\n",
        "  ID = 0\n",
        "  def __init__(self,name,dept,age,cgpa):\n",
        "    Student.ID +=1\n",
        "    self.name = name\n",
        "    self.dept = dept\n",
        "    self.age = age\n",
        "    self.cgpa = cgpa\n",
        "    self.id = Student.ID\n",
        "\n",
        "  def showDetails(self):\n",
        "    print(f'ID: {self.id}\\nName: {self.name}\\nDepartment: {self.dept}\\nAge: {self.age}')\n",
        "    print(\"CGPA: \",self.cgpa)\n",
        "  @classmethod\n",
        "  def from_String(cls,string1):\n",
        "    name, department, age, cgpa = string1.split('-')\n",
        "    return cls(name, department, age, cgpa)\n",
        "\n",
        "s1 = Student(\"Samin\", \"CSE\", 21, 3.91)\n",
        "s1.showDetails()\n",
        "print(\"-----------------------\")\n",
        "s2 = Student(\"Fahim\", \"ECE\", 21, 3.85)\n",
        "s2.showDetails()\n",
        "print(\"-----------------------\")\n",
        "s3 = Student(\"Tahura\", \"EEE\", 22, 3.01)\n",
        "s3.showDetails()\n",
        "print(\"-----------------------\")\n",
        "s4 = Student.from_String(\"Sumaiya-BBA-23-3.96\")\n",
        "s4.showDetails()\n",
        "\n",
        "print()\n",
        "print(\"\"\"Class variables are shared by all instances of a class.They are defined within a class but outside any of the class’s methods.Class variables are not used as often as instance variables and\n",
        "instance variables are unique to each instance of a class.They are defined within methods and are used for the data that is unique to each instance.\"\"\")\n",
        "print()\n",
        "\n",
        "print(\"\"\"Instance methods are methods that are bound to the instance of the class.They can access and modify instance variables of the class and\n",
        "Class methods are methods that are bound to the class and not the instance of the class.They can’t access or modify instance variables.\n",
        "However, they can access and modify class variables.\"\"\")"
      ]
    },
    {
      "cell_type": "markdown",
      "source": [
        "***TASK 2***"
      ],
      "metadata": {
        "id": "vpjaL7VtAA_Q"
      }
    },
    {
      "cell_type": "code",
      "source": [
        "class Passenger:\n",
        "  count = 0\n",
        "  def __init__(self,name):\n",
        "    self.name = name\n",
        "    Passenger.count +=1\n",
        "    self.bus_fare = 450\n",
        "  def set_bag_weight(self,weight):\n",
        "    self.weight = weight\n",
        "    if 21<=self.weight<=50:\n",
        "      self.bus_fare +=50\n",
        "    elif self.weight>50:\n",
        "      self.bus_fare +=100\n",
        "    else:\n",
        "      self.bus_fare = 450\n",
        "  def printDetail(self):\n",
        "    print(f'Name: {self.name}\\nBus Fare: {self.bus_fare} taka')\n",
        "\n",
        "print(\"Total Passenger:\", Passenger.count)\n",
        "p1 = Passenger(\"Jack\")\n",
        "p1.set_bag_weight(90)\n",
        "p2 = Passenger(\"Carol\")\n",
        "p2.set_bag_weight(10)\n",
        "p3 = Passenger(\"Mike\")\n",
        "p3.set_bag_weight(25)\n",
        "print(\"=========================\")\n",
        "p1.printDetail()\n",
        "print(\"=========================\")\n",
        "p2.printDetail()\n",
        "print(\"=========================\")\n",
        "p3.printDetail()\n",
        "print(\"=========================\")\n",
        "print(\"Total Passenger:\", Passenger.count)"
      ],
      "metadata": {
        "colab": {
          "base_uri": "https://localhost:8080/"
        },
        "id": "HEFdX7MRAEcp",
        "outputId": "abbd09b4-e6d9-4208-9c19-7dc747cc4492"
      },
      "execution_count": null,
      "outputs": [
        {
          "output_type": "stream",
          "name": "stdout",
          "text": [
            "Total Passenger: 0\n",
            "=========================\n",
            "Name: Jack\n",
            "Bus Fare: 550 taka\n",
            "=========================\n",
            "Name: Carol\n",
            "Bus Fare: 450 taka\n",
            "=========================\n",
            "Name: Mike\n",
            "Bus Fare: 500 taka\n",
            "=========================\n",
            "Total Passenger: 3\n"
          ]
        }
      ]
    },
    {
      "cell_type": "markdown",
      "source": [
        "***TASK 3***"
      ],
      "metadata": {
        "id": "2KWwWaMxK6im"
      }
    },
    {
      "cell_type": "code",
      "source": [
        "class Travel:\n",
        "  count = 0\n",
        "  def __init__(self,source,destination):\n",
        "    self.source = source\n",
        "    self.destination = destination\n",
        "    Travel.count +=1\n",
        "    self.flight_time = 1\n",
        "\n",
        "  def set_time(self,time):\n",
        "    self.flight_time = time\n",
        "\n",
        "  def display_travel_info(self):\n",
        "    return f'Source: {self.source}\\nDestination:{self.destination}\\nFlight Time:{self.flight_time}:00'\n",
        "\n",
        "  def set_source(self,source1):\n",
        "    self.source = source1\n",
        "\n",
        "  def set_destination(self,destination1):\n",
        "    self.destination = destination1\n",
        "\n",
        "print(\"No. of Traveller =\", Travel.count)\n",
        "print(\"=======================\")\n",
        "t1 = Travel(\"Dhaka\",\"India\")\n",
        "print(t1.display_travel_info())\n",
        "print(\"=======================\")\n",
        "t2 = Travel(\"Kuala Lampur\",\"Dhaka\")\n",
        "t2.set_time(23)\n",
        "print(t2.display_travel_info())\n",
        "print(\"=======================\")\n",
        "t3 = Travel(\"Dhaka\",\"New_Zealand\")\n",
        "t3.set_time(15)\n",
        "t3.set_destination(\"Germany\")\n",
        "print(t3.display_travel_info())\n",
        "print(\"=======================\")\n",
        "t4 = Travel(\"Dhaka\",\"India\")\n",
        "t4.set_time(9)\n",
        "t4.set_source(\"Malaysia\")\n",
        "t4.set_destination(\"Canada\")\n",
        "print(t4.display_travel_info())\n",
        "print(\"=======================\")\n",
        "print(\"No. of Traveller =\", Travel.count)"
      ],
      "metadata": {
        "colab": {
          "base_uri": "https://localhost:8080/"
        },
        "id": "nzAKWpkCK9IT",
        "outputId": "f09f3f5e-2067-4550-db92-20ef88d67b1f"
      },
      "execution_count": null,
      "outputs": [
        {
          "output_type": "stream",
          "name": "stdout",
          "text": [
            "No. of Traveller = 0\n",
            "=======================\n",
            "Source: Dhaka\n",
            "Destination:India\n",
            "Flight Time:1:00\n",
            "=======================\n",
            "Source: Kuala Lampur\n",
            "Destination:Dhaka\n",
            "Flight Time:23:00\n",
            "=======================\n",
            "Source: Dhaka\n",
            "Destination:Germany\n",
            "Flight Time:15:00\n",
            "=======================\n",
            "Source: Malaysia\n",
            "Destination:Canada\n",
            "Flight Time:9:00\n",
            "=======================\n",
            "No. of Traveller = 4\n"
          ]
        }
      ]
    },
    {
      "cell_type": "markdown",
      "source": [
        "***TASK 4***"
      ],
      "metadata": {
        "id": "Y09KNwN8V6mA"
      }
    },
    {
      "cell_type": "code",
      "source": [
        "class NikeBangladesh:\n",
        "  branches = []\n",
        "  inventory = {\"Air Jordan\": 0, \"Cortez\": 0, \"Zoom Kobe\": 0}\n",
        "  total_sold = 0\n",
        "\n",
        "  def __init__(self,outlet):\n",
        "    self.outlet = outlet\n",
        "    self.stocked ={\"Air Jordan\": 0, \"Cortez\": 0, \"Zoom Kobe\": 0}\n",
        "    self.sold = 0\n",
        "    NikeBangladesh.branches.append(outlet)\n",
        "\n",
        "  def restockProducts(self, new_stock):\n",
        "    for product , quantity in new_stock.items():\n",
        "      self.stocked[product] += quantity\n",
        "      NikeBangladesh.inventory[product] += quantity\n",
        "\n",
        "  def productSold(self,sold_stock):\n",
        "    for product,quantity in sold_stock.items():\n",
        "      self.stocked[product] -= quantity\n",
        "      NikeBangladesh.inventory[product] -= quantity\n",
        "      self.sold += quantity\n",
        "      NikeBangladesh.total_sold += quantity\n",
        "\n",
        "  def details(self):\n",
        "    print(f\"Nike {self.outlet} outlet:\")\n",
        "    print(\"Products Currently Stocked: \")\n",
        "    print(self.stocked)\n",
        "    print(f\"Sold: {self.sold}\")\n",
        "\n",
        "  @classmethod\n",
        "  def status(cls):\n",
        "    print(\"Nike Bangladesh Status:\")\n",
        "    print(f\"Branches Opened:  {cls.branches}\")\n",
        "    print(\"Currently Stocked\")\n",
        "    print(cls.inventory)\n",
        "    print(f\"Sold: {cls.total_sold}\")\n",
        "\n",
        "print(\"xxxxxxxxxxxxxx1xxxxxxxxxxxxxxxx\")\n",
        "NikeBangladesh.status()\n",
        "dhaka = NikeBangladesh(\"Dhaka Banani\")\n",
        "chittagong = NikeBangladesh(\"Chittagong GEC\")\n",
        "print(\"xxxxxxxxxxxxxx2xxxxxxxxxxxxxxxx\")\n",
        "dhaka.details()\n",
        "print(\"xxxxxxxxxxxxxx3xxxxxxxxxxxxxxxx\")\n",
        "chittagong.details()\n",
        "print(\"xxxxxxxxxxxxxx4xxxxxxxxxxxxxxxx\")\n",
        "dhaka.restockProducts(\n",
        "{\"Air Jordan\":1200,\"Cortez\":200,\"Zoom Kobe\":200})\n",
        "chittagong.restockProducts(\n",
        "{\"Air Jordan\":1000,\"Cortez\":250,\"Zoom Kobe\":100})\n",
        "print(\"xxxxxxxxxxxxxx5xxxxxxxxxxxxxxxx\")\n",
        "NikeBangladesh.status()\n",
        "print(\"xxxxxxxxxxxxxx6xxxxxxxxxxxxxxxx\")\n",
        "dhaka.productSold({\"Air Jordan\":760,\"Cortez\":90})\n",
        "chittagong.productSold({\"Air Jordan\":520,\"Zoom Kobe\":70})\n",
        "print(\"xxxxxxxxxxxxxx7xxxxxxxxxxxxxxxx\")\n",
        "NikeBangladesh.status()"
      ],
      "metadata": {
        "colab": {
          "base_uri": "https://localhost:8080/"
        },
        "id": "36D_HgTmV8v6",
        "outputId": "a526f212-6902-47f3-eb56-089fa413d17a"
      },
      "execution_count": null,
      "outputs": [
        {
          "output_type": "stream",
          "name": "stdout",
          "text": [
            "xxxxxxxxxxxxxx1xxxxxxxxxxxxxxxx\n",
            "Nike Bangladesh Status:\n",
            "Branches Opened:  []\n",
            "Currently Stocked\n",
            "{'Air Jordan': 0, 'Cortez': 0, 'Zoom Kobe': 0}\n",
            "Sold: 0\n",
            "xxxxxxxxxxxxxx2xxxxxxxxxxxxxxxx\n",
            "Nike Dhaka Banani outlet:\n",
            "Products Currently Stocked: \n",
            "{'Air Jordan': 0, 'Cortez': 0, 'Zoom Kobe': 0}\n",
            "Sold: 0\n",
            "xxxxxxxxxxxxxx3xxxxxxxxxxxxxxxx\n",
            "Nike Chittagong GEC outlet:\n",
            "Products Currently Stocked: \n",
            "{'Air Jordan': 0, 'Cortez': 0, 'Zoom Kobe': 0}\n",
            "Sold: 0\n",
            "xxxxxxxxxxxxxx4xxxxxxxxxxxxxxxx\n",
            "xxxxxxxxxxxxxx5xxxxxxxxxxxxxxxx\n",
            "Nike Bangladesh Status:\n",
            "Branches Opened:  ['Dhaka Banani', 'Chittagong GEC']\n",
            "Currently Stocked\n",
            "{'Air Jordan': 2200, 'Cortez': 450, 'Zoom Kobe': 300}\n",
            "Sold: 0\n",
            "xxxxxxxxxxxxxx6xxxxxxxxxxxxxxxx\n",
            "xxxxxxxxxxxxxx7xxxxxxxxxxxxxxxx\n",
            "Nike Bangladesh Status:\n",
            "Branches Opened:  ['Dhaka Banani', 'Chittagong GEC']\n",
            "Currently Stocked\n",
            "{'Air Jordan': 920, 'Cortez': 360, 'Zoom Kobe': 230}\n",
            "Sold: 1440\n"
          ]
        }
      ]
    },
    {
      "cell_type": "markdown",
      "source": [
        "***TASK 5***"
      ],
      "metadata": {
        "id": "cJ3QhDTtou2e"
      }
    },
    {
      "cell_type": "code",
      "source": [
        "class Student:\n",
        "  total_students = 0\n",
        "  brac_uni_students = 0\n",
        "  other_ins_students = 0\n",
        "\n",
        "  def __init__(self,name,dept,institution = \"BRAC University\"):\n",
        "    self.name = name\n",
        "    self.dept = dept\n",
        "    self.institution = institution\n",
        "    Student.total_students +=1\n",
        "    if self.institution == \"BRAC University\":\n",
        "      Student.brac_uni_students+=1\n",
        "    else:\n",
        "      Student.other_ins_students+=1\n",
        "\n",
        "\n",
        "  @classmethod\n",
        "  def createStudent(cls,name,dept,institution=None):\n",
        "    if institution != None:\n",
        "      return cls(name,dept,institution)\n",
        "    else:\n",
        "      return cls(name,dept)\n",
        "  def individualDetail(self):\n",
        "    print(f\"Name: {self.name}\\nDepartment: {self.dept}\\nInstitution: {self.institution}\")\n",
        "\n",
        "\n",
        "\n",
        "  @classmethod\n",
        "  def printDetails(cls):\n",
        "    print(f'Total Student(s): {Student.total_students}\\nBRAC University Student(s): {Student.brac_uni_students}')\n",
        "    print(f'Other Institution Student(s): {Student.other_ins_students}')\n",
        "\n",
        "Student.printDetails()\n",
        "print('#########################')\n",
        "\n",
        "mikasa = Student('Mikasa Ackerman', \"CSE\")\n",
        "mikasa.individualDetail()\n",
        "print('------------------------------------------')\n",
        "Student.printDetails()\n",
        "\n",
        "print('========================')\n",
        "\n",
        "harry = Student.createStudent('Harry Potter', \"Defence Against Dark Arts\", \"Hogwarts School\")\n",
        "harry.individualDetail()\n",
        "print('-------------------------------------------')\n",
        "Student.printDetails()\n",
        "\n",
        "print('=========================')\n",
        "\n",
        "levi = Student.createStudent(\"Levi Ackerman\", \"CSE\")\n",
        "levi.individualDetail()\n",
        "print('--------------------------------------------')\n",
        "Student.printDetails()\n"
      ],
      "metadata": {
        "colab": {
          "base_uri": "https://localhost:8080/"
        },
        "id": "3sqBNhppouJL",
        "outputId": "0e2210e6-457e-4bbf-c0d7-bae24345033d"
      },
      "execution_count": null,
      "outputs": [
        {
          "output_type": "stream",
          "name": "stdout",
          "text": [
            "Total Student(s): 0\n",
            "BRAC University Student(s): 0\n",
            "Other Institution Student(s): 0\n",
            "#########################\n",
            "Name: Mikasa Ackerman\n",
            "Department: CSE\n",
            "Institution: BRAC University\n",
            "------------------------------------------\n",
            "Total Student(s): 1\n",
            "BRAC University Student(s): 1\n",
            "Other Institution Student(s): 0\n",
            "========================\n",
            "Name: Harry Potter\n",
            "Department: Defence Against Dark Arts\n",
            "Institution: Hogwarts School\n",
            "-------------------------------------------\n",
            "Total Student(s): 2\n",
            "BRAC University Student(s): 1\n",
            "Other Institution Student(s): 1\n",
            "=========================\n",
            "Name: Levi Ackerman\n",
            "Department: CSE\n",
            "Institution: BRAC University\n",
            "--------------------------------------------\n",
            "Total Student(s): 3\n",
            "BRAC University Student(s): 2\n",
            "Other Institution Student(s): 1\n"
          ]
        }
      ]
    },
    {
      "cell_type": "markdown",
      "source": [
        "***TASK 6***"
      ],
      "metadata": {
        "id": "orrqpA5y5cHJ"
      }
    },
    {
      "cell_type": "code",
      "source": [
        "class SultansDine:\n",
        "  total_sell = 0\n",
        "  branches = []\n",
        "  branch_sell = {}\n",
        "\n",
        "  def __init__(self, branch_name):\n",
        "    self.branch_name = branch_name\n",
        "    SultansDine.branches.append(branch_name)\n",
        "    SultansDine.branch_sell[branch_name] = 0\n",
        "\n",
        "  def sellQuantity(self, quantity):\n",
        "    if quantity < 10:\n",
        "      self.branch_sell = quantity * 300\n",
        "    elif quantity < 20:\n",
        "      self.branch_sell = quantity * 350\n",
        "    else:\n",
        "      self.branch_sell = quantity * 400\n",
        "    SultansDine.total_sell += self.branch_sell\n",
        "    SultansDine.branch_sell[self.branch_name] = self.branch_sell\n",
        "\n",
        "  def branchInformation(self):\n",
        "    print(f\"Branch Name: {self.branch_name}\")\n",
        "    print(f\"Branch Sell: {self.branch_sell} Taka\")\n",
        "\n",
        "  @classmethod\n",
        "  def details(cls):\n",
        "    print(f\"Total Number of branch(s): {len(cls.branches)}\")\n",
        "    print(f\"Total Sell: {cls.total_sell} Taka\")\n",
        "    for branch in cls.branches:\n",
        "      sell_percentage = (cls.branch_sell[branch] / cls.total_sell) * 100\n",
        "      print(f\"Branch Name: {branch}, Branch Sell: {cls.branch_sell[branch]} Taka\")\n",
        "      print(f\"Branch consists of total sell's: {sell_percentage:.2f}%\")\n",
        "\n",
        "\n",
        "SultansDine.details()\n",
        "print('########################')\n",
        "dhanmondi = SultansDine('Dhanmondi')\n",
        "dhanmondi.sellQuantity(25)\n",
        "dhanmondi.branchInformation()\n",
        "print('-----------------------------------------')\n",
        "SultansDine.details()\n",
        "\n",
        "print('========================')\n",
        "\n",
        "baily_road = SultansDine('Baily Road')\n",
        "baily_road.sellQuantity(15)\n",
        "baily_road.branchInformation()\n",
        "print('-----------------------------------------')\n",
        "SultansDine.details()\n",
        "\n",
        "print('========================')\n",
        "gulshan = SultansDine('Gulshan')\n",
        "gulshan.sellQuantity(9)\n",
        "gulshan.branchInformation()\n",
        "print('-----------------------------------------')\n",
        "SultansDine.details()\n"
      ],
      "metadata": {
        "colab": {
          "base_uri": "https://localhost:8080/"
        },
        "id": "UJ55OFR3Gbjh",
        "outputId": "a8f40366-323e-40e3-ec9e-330c6f5a597d"
      },
      "execution_count": null,
      "outputs": [
        {
          "output_type": "stream",
          "name": "stdout",
          "text": [
            "Total Number of branch(s): 0\n",
            "Total Sell: 0 Taka\n",
            "########################\n",
            "Branch Name: Dhanmondi\n",
            "Branch Sell: 10000 Taka\n",
            "-----------------------------------------\n",
            "Total Number of branch(s): 1\n",
            "Total Sell: 10000 Taka\n",
            "Branch Name: Dhanmondi, Branch Sell: 10000 Taka\n",
            "Branch consists of total sell's: 100.00%\n",
            "========================\n",
            "Branch Name: Baily Road\n",
            "Branch Sell: 5250 Taka\n",
            "-----------------------------------------\n",
            "Total Number of branch(s): 2\n",
            "Total Sell: 15250 Taka\n",
            "Branch Name: Dhanmondi, Branch Sell: 10000 Taka\n",
            "Branch consists of total sell's: 65.57%\n",
            "Branch Name: Baily Road, Branch Sell: 5250 Taka\n",
            "Branch consists of total sell's: 34.43%\n",
            "========================\n",
            "Branch Name: Gulshan\n",
            "Branch Sell: 2700 Taka\n",
            "-----------------------------------------\n",
            "Total Number of branch(s): 3\n",
            "Total Sell: 17950 Taka\n",
            "Branch Name: Dhanmondi, Branch Sell: 10000 Taka\n",
            "Branch consists of total sell's: 55.71%\n",
            "Branch Name: Baily Road, Branch Sell: 5250 Taka\n",
            "Branch consists of total sell's: 29.25%\n",
            "Branch Name: Gulshan, Branch Sell: 2700 Taka\n",
            "Branch consists of total sell's: 15.04%\n"
          ]
        }
      ]
    }
  ]
}