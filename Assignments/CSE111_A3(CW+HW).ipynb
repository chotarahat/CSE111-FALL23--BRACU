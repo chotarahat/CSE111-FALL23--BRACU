{
  "nbformat": 4,
  "nbformat_minor": 0,
  "metadata": {
    "colab": {
      "provenance": []
    },
    "kernelspec": {
      "name": "python3",
      "display_name": "Python 3"
    },
    "language_info": {
      "name": "python"
    }
  },
  "cells": [
    {
      "cell_type": "code",
      "execution_count": null,
      "metadata": {
        "colab": {
          "base_uri": "https://localhost:8080/"
        },
        "id": "INDzmclQm-uM",
        "outputId": "3f2de693-92b6-48c8-dee5-b689c85dbaf8"
      },
      "outputs": [
        {
          "output_type": "stream",
          "name": "stdout",
          "text": [
            "=====================================\n",
            "Mango Tree Details:\n",
            "Variety: Gopalbhog\n",
            "Height: 1 meter(s)\n",
            "Number of mangoes on the tree: 0\n",
            "=====================================\n",
            "Mango Tree Details:\n",
            "Variety: Amrapali\n",
            "Height: 1 meter(s)\n",
            "Number of mangoes on the tree: 0\n",
            "=====================================\n"
          ]
        }
      ],
      "source": [
        "class MangoTree:\n",
        "  def __init__(self, variety):\n",
        "    self.variety = variety\n",
        "    self.height = 1\n",
        "    self.number_of_mangoes = 0\n",
        "\n",
        "mangoTree1= MangoTree(\"Gopalbhog\")\n",
        "# Display the details of the mango tree\n",
        "print(\"=====================================\")\n",
        "print(\"Mango Tree Details:\")\n",
        "print(f\"Variety: {mangoTree1.variety}\")\n",
        "print(f\"Height: {mangoTree1.height} meter(s)\")\n",
        "print(f\"Number of mangoes on the tree: {mangoTree1.number_of_mangoes}\")\n",
        "print(\"=====================================\")\n",
        "mangoTree2= MangoTree(\"Amrapali\")\n",
        "# Display the details of the mango tree\n",
        "print(\"Mango Tree Details:\")\n",
        "print(f\"Variety: {mangoTree2.variety}\")\n",
        "print(f\"Height: {mangoTree2.height} meter(s)\")\n",
        "print(f\"Number of mangoes on the tree: {mangoTree2.number_of_mangoes}\")\n",
        "print(\"=====================================\")"
      ]
    },
    {
      "cell_type": "code",
      "source": [
        "class MangoTree:\n",
        "  def __init__(self,variety):\n",
        "    self.variety = variety\n",
        "    self.height = 1\n",
        "    self.number_of_mangoes = 0\n",
        "\n",
        "  def growthUpdate(self,time):\n",
        "    self.height += time*3\n",
        "\n",
        "    if self.variety == \"Gopalbhog\":\n",
        "\n",
        "      self.number_of_mangoes = self.height*10\n",
        "\n",
        "    elif self.variety == \"Amrapali\":\n",
        "\n",
        "      self.number_of_mangoes = self.height*15\n",
        "\n",
        "    print(\"Height :\",self.height ,\"meter(s)\")\n",
        "    print(\"Variety: \",self.variety)\n",
        "    print(\"Number of mangoes on the tree: \",self.number_of_mangoes)\n",
        "\n",
        "print(\"Updated details after 5 years:\")\n",
        "mangoTree1= MangoTree(\"Gopalbhog\")\n",
        "print(\"=====================================\")\n",
        "mangoTree1.growthUpdate(5)\n",
        "print(\"=====================================\")\n",
        "mangoTree2= MangoTree(\"Amrapali\")\n",
        "mangoTree2.growthUpdate(5)\n",
        "print(\"=====================================\")"
      ],
      "metadata": {
        "colab": {
          "base_uri": "https://localhost:8080/"
        },
        "id": "MNsQgGwazYl3",
        "outputId": "88efd2a8-8174-4d6e-bd0a-ece9eb5cfd97"
      },
      "execution_count": null,
      "outputs": [
        {
          "output_type": "stream",
          "name": "stdout",
          "text": [
            "Updated details after 5 years:\n",
            "=====================================\n",
            "Height : 16 meter(s)\n",
            "Variety:  Gopalbhog\n",
            "Number of mangoes on the tree:  160\n",
            "=====================================\n",
            "Height : 16 meter(s)\n",
            "Variety:  Amrapali\n",
            "Number of mangoes on the tree:  240\n",
            "=====================================\n"
          ]
        }
      ]
    },
    {
      "cell_type": "code",
      "source": [
        "class Customer:\n",
        "  def __init__(self):\n",
        "    self.ticketprice = 0\n",
        "    self.amount = 0\n",
        "    print(\"Welcome to ABC Memorial Park\")\n",
        "  def buyTicket(self,name,age):\n",
        "    self.name = name\n",
        "    self.age = age\n",
        "    if self.amount<3:\n",
        "      print(\"Successfully purchased a ticket for\",self.name,\"!\")\n",
        "      if age>10:\n",
        "        self.ticketprice += 100\n",
        "      else:\n",
        "        self.ticketprice += 50\n",
        "      self.amount+=1\n",
        "    else:\n",
        "      print(\"You can't buy more than 3 tickets\")\n",
        "  def showDetails(self):\n",
        "    print(\"Amount of tickets:\",self.amount)\n",
        "    print(\"Total price:\",self.ticketprice)\n",
        "\n",
        "\n",
        "\n",
        "\n",
        "print('1-------------------------')\n",
        "customer1 = Customer()\n",
        "print('2-------------------------')\n",
        "customer1.buyTicket('Bob', 23)\n",
        "customer1.buyTicket('Henry', 7)\n",
        "customer1.buyTicket('Alexa', 30)\n",
        "customer1.buyTicket('Jonas', 43)\n",
        "print('3-------------------------')\n",
        "customer1.showDetails()\n",
        "print('4-------------------------')\n",
        "customer2 = Customer()\n",
        "print('5-------------------------')\n",
        "customer2.buyTicket('Harry', 60)\n",
        "customer2.buyTicket('Tomas', 28)\n",
        "print('6-------------------------')\n",
        "customer2.showDetails()\n",
        "\n"
      ],
      "metadata": {
        "colab": {
          "base_uri": "https://localhost:8080/"
        },
        "id": "Ez6Wc-em65d8",
        "outputId": "b3c0009a-69aa-4c2f-fb13-4bd739e8f327"
      },
      "execution_count": null,
      "outputs": [
        {
          "output_type": "stream",
          "name": "stdout",
          "text": [
            "1-------------------------\n",
            "Welcome to ABC Memorial Park\n",
            "2-------------------------\n",
            "Successfully purchased a ticket for Bob !\n",
            "Successfully purchased a ticket for Henry !\n",
            "Successfully purchased a ticket for Alexa !\n",
            "You can't buy more than 3 tickets\n",
            "3-------------------------\n",
            "Amount of tickets: 3\n",
            "Total price: 250\n",
            "4-------------------------\n",
            "Welcome to ABC Memorial Park\n",
            "5-------------------------\n",
            "Successfully purchased a ticket for Harry !\n",
            "Successfully purchased a ticket for Tomas !\n",
            "6-------------------------\n",
            "Amount of tickets: 2\n",
            "Total price: 200\n"
          ]
        }
      ]
    },
    {
      "cell_type": "code",
      "source": [
        "class GreenPhone:\n",
        "  def __init__(self,model_name,a_version,cameras,phone_company =\"GreenPhone\"):\n",
        "    self.phone_company = phone_company\n",
        "    self.model_name = model_name\n",
        "    self.android = a_version\n",
        "    self.cameras = cameras\n",
        "    self.max_update = self.android + 2 if 'A' in model_name else self.android + 3 if 'M' in model_name else self.android + 4\n",
        "\n",
        "  def showSpecification(self):\n",
        "    print(\"Phone Company:\",self.phone_company)\n",
        "    print(\"Model Name: \",self.model_name)\n",
        "    print(\"Android Version: \",self.android)\n",
        "    print(\"Number of Cameras: \",self.cameras)\n",
        "\n",
        "  def updatePhone(self):\n",
        "    if self.android < self.max_update:\n",
        "      self.android += 1\n",
        "      print(f\"Your phone {self.phone_company} {self.model_name} is upgraded to \\nAndroid Version: {self.android}.\")\n",
        "    else:\n",
        "      print(f'Your phone Greenphone {self.model_name} is upgraded to\\nAndroid Version: {self.android}.')\n",
        "\n",
        "print('1=======================')\n",
        "p1 = GreenPhone('A1', 12, 3)\n",
        "p2 = GreenPhone('M11', 12, 4)\n",
        "p3 = GreenPhone('U20', 12, 5)\n",
        "p1.showSpecification()\n",
        "print('2=======================')\n",
        "p2.showSpecification()\n",
        "print('3=======================')\n",
        "p1.updatePhone()\n",
        "print('4=======================')\n",
        "p1.updatePhone()\n",
        "p2.updatePhone()\n",
        "p3.updatePhone()\n",
        "print('5=======================')\n",
        "p1.updatePhone()\n",
        "p2.updatePhone()\n",
        "p3.updatePhone()\n",
        "print('6=======================')\n",
        "p2.updatePhone()\n",
        "p3.updatePhone()\n",
        "print('7=======================')\n",
        "p1.showSpecification()\n",
        "p3.showSpecification()\n"
      ],
      "metadata": {
        "id": "jkg8D8ujFdZX",
        "colab": {
          "base_uri": "https://localhost:8080/"
        },
        "outputId": "21efc52a-3de0-4572-fdce-f1f93380c977"
      },
      "execution_count": null,
      "outputs": [
        {
          "output_type": "stream",
          "name": "stdout",
          "text": [
            "1=======================\n",
            "Phone Company: GreenPhone\n",
            "Model Name:  A1\n",
            "Android Version:  12\n",
            "Number of Cameras:  3\n",
            "2=======================\n",
            "Phone Company: GreenPhone\n",
            "Model Name:  M11\n",
            "Android Version:  12\n",
            "Number of Cameras:  4\n",
            "3=======================\n",
            "Your phone GreenPhone A1 is upgraded to \n",
            "Android Version: 13.\n",
            "4=======================\n",
            "Your phone GreenPhone A1 is upgraded to \n",
            "Android Version: 14.\n",
            "Your phone GreenPhone M11 is upgraded to \n",
            "Android Version: 13.\n",
            "Your phone GreenPhone U20 is upgraded to \n",
            "Android Version: 13.\n",
            "5=======================\n",
            "Your phone Greenphone A1 is upgraded to\n",
            "Android Version: 14.\n",
            "Your phone GreenPhone M11 is upgraded to \n",
            "Android Version: 14.\n",
            "Your phone GreenPhone U20 is upgraded to \n",
            "Android Version: 14.\n",
            "6=======================\n",
            "Your phone GreenPhone M11 is upgraded to \n",
            "Android Version: 15.\n",
            "Your phone GreenPhone U20 is upgraded to \n",
            "Android Version: 15.\n",
            "7=======================\n",
            "Phone Company: GreenPhone\n",
            "Model Name:  A1\n",
            "Android Version:  14\n",
            "Number of Cameras:  3\n",
            "Phone Company: GreenPhone\n",
            "Model Name:  U20\n",
            "Android Version:  15\n",
            "Number of Cameras:  5\n"
          ]
        }
      ]
    },
    {
      "cell_type": "code",
      "source": [
        "class GreenPhone:\n",
        "    def __init__(self, model, android_version, num_cameras):\n",
        "        self.company = 'GreenPhone'\n",
        "        self.model = model\n",
        "        self.android_version = android_version\n",
        "        self.num_cameras = num_cameras\n",
        "        self.max_update = self.android_version + 2 if 'A' in model else self.android_version + 3 if 'M' in model else self.android_version + 4\n",
        "\n",
        "    def showSpecification(self):\n",
        "        print(f\"Phone Company: {self.company}\\nModel Name: {self.model}\\nAndroid Version: {self.android_version}\\nNumber of Cameras: {self.num_cameras}\")\n",
        "\n",
        "    def updatePhone(self):\n",
        "        if self.android_version < self.max_update:\n",
        "            self.android_version += 1\n",
        "            print(f\"Your phone {self.company} {self.model} is upgraded to Android Version: {self.android_version}.\")\n",
        "        else:\n",
        "            print(f\"Your phone {self.company} {self.model} is already up to date.\")\n",
        "print('1=======================')\n",
        "p1 = GreenPhone('A1', 12, 3)\n",
        "p2 = GreenPhone('M11', 12, 4)\n",
        "p3 = GreenPhone('U20', 12, 5)\n",
        "p1.showSpecification()\n",
        "print('2=======================')\n",
        "p2.showSpecification()\n",
        "print('3=======================')\n",
        "p1.updatePhone()\n",
        "print('4=======================')\n",
        "p1.updatePhone()\n",
        "p2.updatePhone()\n",
        "p3.updatePhone()\n",
        "print('5=======================')\n",
        "p1.updatePhone()\n",
        "p2.updatePhone()\n",
        "p3.updatePhone()\n",
        "print('6=======================')\n",
        "p2.updatePhone()\n",
        "p3.updatePhone()\n",
        "print('7=======================')\n",
        "p1.showSpecification()\n",
        "p3.showSpecification()"
      ],
      "metadata": {
        "colab": {
          "base_uri": "https://localhost:8080/"
        },
        "id": "4z-SCBbaNDH5",
        "outputId": "c2d86006-c0e0-4d8e-c83d-e6b1d0d5c2db"
      },
      "execution_count": null,
      "outputs": [
        {
          "output_type": "stream",
          "name": "stdout",
          "text": [
            "1=======================\n",
            "Phone Company: GreenPhone\n",
            "Model Name: A1\n",
            "Android Version: 12\n",
            "Number of Cameras: 3\n",
            "2=======================\n",
            "Phone Company: GreenPhone\n",
            "Model Name: M11\n",
            "Android Version: 12\n",
            "Number of Cameras: 4\n",
            "3=======================\n",
            "Your phone GreenPhone A1 is upgraded to Android Version: 13.\n",
            "4=======================\n",
            "Your phone GreenPhone A1 is upgraded to Android Version: 14.\n",
            "Your phone GreenPhone M11 is upgraded to Android Version: 13.\n",
            "Your phone GreenPhone U20 is upgraded to Android Version: 13.\n",
            "5=======================\n",
            "Your phone GreenPhone A1 is already up to date.\n",
            "Your phone GreenPhone M11 is upgraded to Android Version: 14.\n",
            "Your phone GreenPhone U20 is upgraded to Android Version: 14.\n",
            "6=======================\n",
            "Your phone GreenPhone M11 is upgraded to Android Version: 15.\n",
            "Your phone GreenPhone U20 is upgraded to Android Version: 15.\n",
            "7=======================\n",
            "Phone Company: GreenPhone\n",
            "Model Name: A1\n",
            "Android Version: 14\n",
            "Number of Cameras: 3\n",
            "Phone Company: GreenPhone\n",
            "Model Name: U20\n",
            "Android Version: 15\n",
            "Number of Cameras: 5\n"
          ]
        }
      ]
    },
    {
      "cell_type": "code",
      "source": [
        "class CellPackage:\n",
        "  def __init__(self,price,data,talk_time,messages,cashback,validity):\n",
        "    self.price=price\n",
        "    self.data = data.split(\" \")\n",
        "    self.talk_time = talk_time\n",
        "    self.messages = messages\n",
        "    self.cashback = cashback\n",
        "    self.validity = validity\n",
        "\n",
        "\n",
        "\n",
        "\n",
        "\n",
        "pkg = CellPackage(150, '6 GB', 99, 20, '7%', 7)\n",
        "print('============= Package 1 =============')\n",
        "\n",
        "pkg2 = CellPackage(700, '35 GB', 700, 0, '10%', 30)\n",
        "print('============= Package 2 =============')\n",
        "\n",
        "pkg4 = CellPackage(120, '0 GB', 190, 0, '0%', 10)\n",
        "print('============= Package 3 =============')"
      ],
      "metadata": {
        "id": "tnak-4ADUGor"
      },
      "execution_count": null,
      "outputs": []
    },
    {
      "cell_type": "code",
      "source": [
        "class A:\n",
        "  def m1(self):\n",
        "    print(\"Inside class A m1\")\n",
        "    self.m4()\n",
        "class B(A):\n",
        "  def m1(self):\n",
        "    super().m1()\n",
        "    print(\"Kothaye ashlaam?\")\n",
        "  def m3(self):\n",
        "    self.m2()\n",
        "    print(\"Inside class B m3\")\n",
        "  def m2(self):\n",
        "    print(\"Are you sure I am supposed to be here?\")\n",
        "  def m4(self):\n",
        "    print(\"Inside class B m4\")\n",
        "\n",
        "\n",
        "class C(B):\n",
        "  def m1(self):\n",
        "    self.m3()\n",
        "    print(\"Inside class C m1\")\n",
        "  def m2(self):\n",
        "    super().m1()\n",
        "    print(\"Bhul\")\n",
        "\n",
        "\n",
        "c1 = C()\n",
        "c1.m1()\n"
      ],
      "metadata": {
        "id": "_g1ifAsc1V6H",
        "outputId": "e737514f-5770-4a58-b624-7119ec044604",
        "colab": {
          "base_uri": "https://localhost:8080/"
        }
      },
      "execution_count": null,
      "outputs": [
        {
          "output_type": "stream",
          "name": "stdout",
          "text": [
            "Inside class A m1\n",
            "Inside class B m4\n",
            "Kothaye ashlaam?\n",
            "Bhul\n",
            "Inside class B m3\n",
            "Inside class C m1\n"
          ]
        }
      ]
    },
    {
      "cell_type": "markdown",
      "source": [
        "**Practising for MIDTERM(lab3+4)**"
      ],
      "metadata": {
        "id": "5lC5xgf3uh7r"
      }
    },
    {
      "cell_type": "markdown",
      "source": [
        "**CW3**"
      ],
      "metadata": {
        "id": "x8HDc-bfl811"
      }
    },
    {
      "cell_type": "markdown",
      "source": [
        "**TASK_1**"
      ],
      "metadata": {
        "id": "GTvjRltIuxx8"
      }
    },
    {
      "cell_type": "code",
      "source": [
        "class MangoTree:\n",
        "  def __init__(self,variety):\n",
        "    self.variety = variety\n",
        "    self.height = 1\n",
        "    self.number_of_mangoes = 0\n",
        "  def growthUpdate(self,year):\n",
        "    self.year = year\n",
        "    self.height += self.year*3\n",
        "    if self.variety ==\"Gopalbhog\":\n",
        "      self.number_of_mangoes = self.height*10\n",
        "    else:\n",
        "      self.number_of_mangoes = self.height*15\n",
        "    print(f'Variety:{self.variety}\\nHeight: {self.height} meter(s)\\nNumber of mangoes on the tree: {self.number_of_mangoes}')\n",
        "\n",
        "mangoTree1= MangoTree(\"Gopalbhog\")\n",
        "print(\"=====================================\")\n",
        "print(\"Mango Tree Details:\")\n",
        "print(f\"Variety: {mangoTree1.variety}\")\n",
        "print(f\"Height: {mangoTree1.height} meter(s)\")\n",
        "print(f\"Number of mangoes on the tree: {mangoTree1.number_of_mangoes}\")\n",
        "print(\"=====================================\")\n",
        "mangoTree2= MangoTree(\"Amrapali\")\n",
        "print(\"Mango Tree Details:\")\n",
        "print(f\"Variety: {mangoTree2.variety}\")\n",
        "print(f\"Height: {mangoTree2.height} meter(s)\")\n",
        "print(f\"Number of mangoes on the tree: {mangoTree2.number_of_mangoes}\")\n",
        "print(\"=====================================\")\n",
        "\n",
        "print(\"Updated details after 5 years:\")\n",
        "mangoTree1= MangoTree(\"Gopalbhog\")\n",
        "print(\"=====================================\")\n",
        "mangoTree1.growthUpdate(5)\n",
        "print(\"=====================================\")\n",
        "mangoTree2= MangoTree(\"Amrapali\")\n",
        "mangoTree2.growthUpdate(5)\n",
        "print(\"=====================================\")\n",
        "\n"
      ],
      "metadata": {
        "colab": {
          "base_uri": "https://localhost:8080/"
        },
        "id": "7krzSVlbuhPk",
        "outputId": "239ca044-6f77-419e-c38b-5ce0892e99b4"
      },
      "execution_count": null,
      "outputs": [
        {
          "output_type": "stream",
          "name": "stdout",
          "text": [
            "=====================================\n",
            "Mango Tree Details:\n",
            "Variety: Gopalbhog\n",
            "Height: 1 meter(s)\n",
            "Number of mangoes on the tree: 0\n",
            "=====================================\n",
            "Mango Tree Details:\n",
            "Variety: Amrapali\n",
            "Height: 1 meter(s)\n",
            "Number of mangoes on the tree: 0\n",
            "=====================================\n",
            "Updated details after 5 years:\n",
            "=====================================\n",
            "Variety:Gopalbhog\n",
            "Height: 16 meter(s)\n",
            "Number of mangoes on the tree: 160\n",
            "=====================================\n",
            "Variety:Amrapali\n",
            "Height: 16 meter(s)\n",
            "Number of mangoes on the tree: 240\n",
            "=====================================\n"
          ]
        }
      ]
    },
    {
      "cell_type": "markdown",
      "source": [
        "**TASK_2**"
      ],
      "metadata": {
        "id": "OgUYP_5417sg"
      }
    },
    {
      "cell_type": "code",
      "source": [
        "class Customer:\n",
        "  def __init__(self):\n",
        "    self.ticket_price = 0\n",
        "    self.amount = 0\n",
        "    print(\"Welcome to ABC Memorial Park\")\n",
        "  def buyTicket(self,name,age):\n",
        "    self.name = name\n",
        "    self.age= age\n",
        "    if self.amount<3:\n",
        "      print(f'Successfully purchased a ticket for {self.name}!')\n",
        "      if self.age>10:\n",
        "        self.ticket_price +=100\n",
        "      else:\n",
        "        self.ticket_price+=50\n",
        "      self.amount+=1\n",
        "    else:\n",
        "      print(f\"You can't buy more than 3 tickets\")\n",
        "  def showDetails(self):\n",
        "    print(f'Amount of tickets: {self.amount}')\n",
        "    print(f\"Total price: {self.ticket_price}\")\n",
        "\n",
        "\n",
        "print('1-------------------------')\n",
        "customer1 = Customer()\n",
        "print('2-------------------------')\n",
        "customer1.buyTicket('Bob', 23)\n",
        "customer1.buyTicket('Henry', 7)\n",
        "customer1.buyTicket('Alexa', 30)\n",
        "customer1.buyTicket('Jonas', 43)\n",
        "print('3-------------------------')\n",
        "customer1.showDetails()\n",
        "print('4-------------------------')\n",
        "customer2 = Customer()\n",
        "print('5-------------------------')\n",
        "customer2.buyTicket('Harry', 60)\n",
        "customer2.buyTicket('Tomas', 28)\n",
        "print('6-------------------------')\n",
        "customer2.showDetails()\n",
        "\n"
      ],
      "metadata": {
        "colab": {
          "base_uri": "https://localhost:8080/"
        },
        "id": "bUMgPlMp1-WW",
        "outputId": "e13bbd74-46a8-4fda-c16f-24758b42847f"
      },
      "execution_count": null,
      "outputs": [
        {
          "output_type": "stream",
          "name": "stdout",
          "text": [
            "1-------------------------\n",
            "Welcome to ABC Memorial Park\n",
            "2-------------------------\n",
            "Successfully purchased a ticket for Bob!\n",
            "Successfully purchased a ticket for Henry!\n",
            "Successfully purchased a ticket for Alexa!\n",
            "You can't buy more than 3 tickets\n",
            "3-------------------------\n",
            "Amount of tickets: 3\n",
            "Total price: 250\n",
            "4-------------------------\n",
            "Welcome to ABC Memorial Park\n",
            "5-------------------------\n",
            "Successfully purchased a ticket for Harry!\n",
            "Successfully purchased a ticket for Tomas!\n",
            "6-------------------------\n",
            "Amount of tickets: 2\n",
            "Total price: 200\n"
          ]
        }
      ]
    },
    {
      "cell_type": "markdown",
      "source": [
        "**TASK_3**"
      ],
      "metadata": {
        "id": "miZn-URYuwpk"
      }
    },
    {
      "cell_type": "code",
      "source": [
        "class GreenPhone:\n",
        "  def __init__(self,model_name,a_version,cameras,phone_company=\"GreenPhone\"):\n",
        "    self.phone_company = phone_company\n",
        "    self.model_name = model_name\n",
        "    self.android_version = a_version\n",
        "    self.number_of_cameras = cameras\n",
        "    self.count = 12\n",
        "    if 'A' in self.model_name:\n",
        "      self.count += 2\n",
        "    elif 'M' in self.model_name:\n",
        "      self.count += 3\n",
        "    elif 'U' in self.model_name:\n",
        "      self.count += 3\n",
        "  def showSpecification(self):\n",
        "    print(f'Phone Company: {self.phone_company}\\nModel Name: {self.model_name}')\n",
        "    print(f'Android Version: {self.android_version}\\nNumber of Cameras: {self.number_of_cameras}')\n",
        "\n",
        "  def updatePhone(self):\n",
        "    if self.android_version < self.count:\n",
        "        self.android_version += 1\n",
        "        print(f'Your phone {self.phone_company} {self.model_name} is upgraded to Android Version: {self.android_version}.')\n",
        "    else:\n",
        "        print(f'Your phone {self.phone_company} {self.model_name} is already up to date.')\n",
        "print('1=======================')\n",
        "p1 = GreenPhone('A1', 12, 3)\n",
        "p2 = GreenPhone('M11', 12, 4)\n",
        "p3 = GreenPhone('U20', 12, 5)\n",
        "p1.showSpecification()\n",
        "print('2=======================')\n",
        "p2.showSpecification()\n",
        "print('3=======================')\n",
        "p1.updatePhone()\n",
        "print('4=======================')\n",
        "p1.updatePhone()\n",
        "p2.updatePhone()\n",
        "p3.updatePhone()\n",
        "print('5=======================')\n",
        "p1.updatePhone()\n",
        "p2.updatePhone()\n",
        "p3.updatePhone()\n",
        "print('6=======================')\n",
        "p2.updatePhone()\n",
        "p3.updatePhone()\n",
        "print('7=======================')\n",
        "p1.showSpecification()\n",
        "p3.showSpecification()\n"
      ],
      "metadata": {
        "colab": {
          "base_uri": "https://localhost:8080/"
        },
        "id": "EPCdv20gIa1s",
        "outputId": "6541d55d-1a7e-4a5f-e1c6-b8701fff6146"
      },
      "execution_count": null,
      "outputs": [
        {
          "output_type": "stream",
          "name": "stdout",
          "text": [
            "1=======================\n",
            "Phone Company: GreenPhone\n",
            "Model Name: A1\n",
            "Android Version: 12\n",
            "Number of Cameras: 3\n",
            "2=======================\n",
            "Phone Company: GreenPhone\n",
            "Model Name: M11\n",
            "Android Version: 12\n",
            "Number of Cameras: 4\n",
            "3=======================\n",
            "Your phone GreenPhone A1 is upgraded to Android Version: 13.\n",
            "4=======================\n",
            "Your phone GreenPhone A1 is upgraded to Android Version: 14.\n",
            "Your phone GreenPhone M11 is upgraded to Android Version: 13.\n",
            "Your phone GreenPhone U20 is upgraded to Android Version: 13.\n",
            "5=======================\n",
            "Your phone GreenPhone A1 is already up to date.\n",
            "Your phone GreenPhone M11 is upgraded to Android Version: 14.\n",
            "Your phone GreenPhone U20 is upgraded to Android Version: 14.\n",
            "6=======================\n",
            "Your phone GreenPhone M11 is upgraded to Android Version: 15.\n",
            "Your phone GreenPhone U20 is upgraded to Android Version: 15.\n",
            "7=======================\n",
            "Phone Company: GreenPhone\n",
            "Model Name: A1\n",
            "Android Version: 14\n",
            "Number of Cameras: 3\n",
            "Phone Company: GreenPhone\n",
            "Model Name: U20\n",
            "Android Version: 15\n",
            "Number of Cameras: 5\n"
          ]
        }
      ]
    },
    {
      "cell_type": "markdown",
      "source": [
        "**HW4**"
      ],
      "metadata": {
        "id": "ZNLqHzW8mAmq"
      }
    },
    {
      "cell_type": "markdown",
      "source": [
        "**TASK_1**"
      ],
      "metadata": {
        "id": "zt4hS40mmCdd"
      }
    },
    {
      "cell_type": "code",
      "source": [
        "class Student:\n",
        "  def __init__(self,name,cgpa,credits=9,dept = \"CSE\"):\n",
        "    self.name = name\n",
        "    self.cgpa = cgpa\n",
        "    self.credits = credits\n",
        "    self.dept = dept\n",
        "    self.scholarship_status = \"No scholarship\"\n",
        "\n",
        "  def checkScholarshipEligibility(self):\n",
        "    if self.cgpa >= 3.7 and self.credits > 10:\n",
        "      self.scholarship_status = \"Merit-based scholarship\"\n",
        "      print(f\"{self.name} is eligible for Merit-based scholarship.\")\n",
        "    elif 3.5 <= self.cgpa < 3.7 and self.credits > 10:\n",
        "      self.scholarship_status = \"Need-based scholarship\"\n",
        "      print(f\"{self.name} is eligible for Need-based scholarship.\")\n",
        "    else:\n",
        "      print(f\"{self.name} is not eligible for scholarship.\")\n",
        "  def showDetails(self):\n",
        "    print(f'Name: {self.name}\\nDepartment: {self.dept}\\nCGPA: {self.cgpa}')\n",
        "    print(f'Number of Credits: {self.credits}\\nScholarship Status: {self.scholarship_status}')\n",
        "print('--------------------------')\n",
        "std1 = Student(\"Alif\", 3.99, 12)\n",
        "print('--------------------------')\n",
        "std1.checkScholarshipEligibility()\n",
        "print('--------------------------')\n",
        "std1.showDetails()\n",
        "print('--------------------------')\n",
        "std2 = Student(\"Mim\", 3.4)\n",
        "std3 = Student(\"Henry\", 3.5, 15,\"BBA\")\n",
        "print('--------------------------')\n",
        "std2.checkScholarshipEligibility()\n",
        "print('--------------------------')\n",
        "std3.checkScholarshipEligibility()\n",
        "print('--------------------------')\n",
        "std2.showDetails()\n",
        "print('--------------------------')\n",
        "std3.showDetails()\n",
        "print('--------------------------')\n",
        "std4 = Student(\"Bob\", 4.0, 6, \"CSE\")\n",
        "print('--------------------------')\n",
        "std4.checkScholarshipEligibility()\n",
        "print('--------------------------')\n",
        "std4.showDetails()\n"
      ],
      "metadata": {
        "colab": {
          "base_uri": "https://localhost:8080/"
        },
        "id": "RajEICe9l5gx",
        "outputId": "bde3033c-89d8-43bf-f8c0-ffab38d75b71"
      },
      "execution_count": null,
      "outputs": [
        {
          "output_type": "stream",
          "name": "stdout",
          "text": [
            "--------------------------\n",
            "--------------------------\n",
            "Alif is eligible for Merit-based scholarship.\n",
            "--------------------------\n",
            "Name: Alif\n",
            "Department: CSE\n",
            "CGPA: 3.99\n",
            "Number of Credits: 12\n",
            "Scholarship Status: Merit-based scholarship\n",
            "--------------------------\n",
            "--------------------------\n",
            "Mim is not eligible for scholarship.\n",
            "--------------------------\n",
            "Henry is eligible for Need-based scholarship.\n",
            "--------------------------\n",
            "Name: Mim\n",
            "Department: CSE\n",
            "CGPA: 3.4\n",
            "Number of Credits: 9\n",
            "Scholarship Status: No scholarship\n",
            "--------------------------\n",
            "Name: Henry\n",
            "Department: BBA\n",
            "CGPA: 3.5\n",
            "Number of Credits: 15\n",
            "Scholarship Status: Need-based scholarship\n",
            "--------------------------\n",
            "--------------------------\n",
            "Bob is not eligible for scholarship.\n",
            "--------------------------\n",
            "Name: Bob\n",
            "Department: CSE\n",
            "CGPA: 4.0\n",
            "Number of Credits: 6\n",
            "Scholarship Status: No scholarship\n"
          ]
        }
      ]
    },
    {
      "cell_type": "code",
      "source": [
        "class Foodie:\n",
        "\n",
        "  def __init__(self,name):\n",
        "    self.name = name\n",
        "    self.items =[]\n",
        "    self.total_spent = 0\n",
        "    self.tips = 0\n",
        "  def show_orders(self):\n",
        "    for i in menu:\n",
        "      self.item.append(i)\n",
        "  def order(self,*args):\n",
        "    for i in args:\n",
        "      item,quantity = i.split(\"-\")\n",
        "      quantity = int(quantity)\n",
        "menu = {'Chicken Lollipop':15,'Beef Nugget':20,'Americano':180,'Red Velvet':150,'Prawn Tempura':80,'Saute Veg':200}\n",
        "\n",
        "f1 = Foodie('Frodo')\n",
        "print(f1.show_orders())\n",
        "print('1----------------------')\n",
        "f1.order('Chicken Lollipop-3','Beef Nugget-6','Americano-1')\n",
        "print('2----------------------')\n",
        "print(f1.show_orders())\n",
        "print('3----------------------')\n",
        "f1.order('Red Velvet-1')\n",
        "print('4----------------------')\n",
        "f1.pay_tips(20)\n",
        "print('5----------------------')\n",
        "print(f1.show_orders())\n",
        "f2 = Foodie('Bilbo')\n",
        "print('6----------------------')\n",
        "f2.order('Prawn Tempura-6','Saute Veg-1')\n",
        "print('7----------------------')\n",
        "f2.pay_tips()\n",
        "print('8----------------------')\n",
        "print(f2.show_orders())"
      ],
      "metadata": {
        "id": "ZWCcOUcvKqSr"
      },
      "execution_count": null,
      "outputs": []
    },
    {
      "cell_type": "code",
      "source": [
        "# Define the dictionary\n",
        "menu = {'Chicken Lollipop':15,'Beef Nugget':20,'Americano':180,'Red Velvet':150,'Prawn Tempura':80,'Saute Veg':200}\n",
        "\n",
        "# Initialize an empty list\n",
        "item = []\n",
        "\n",
        "# Append the keys from the dictionary to the list\n",
        "for key in menu.values():\n",
        "  item.append(key)\n",
        "\n",
        "print(item)\n",
        "print(menu[item])\n"
      ],
      "metadata": {
        "colab": {
          "base_uri": "https://localhost:8080/"
        },
        "id": "IfEmm4EHoVF3",
        "outputId": "0936b5f9-db84-4ea5-a270-eb6e9caa9c19"
      },
      "execution_count": null,
      "outputs": [
        {
          "output_type": "stream",
          "name": "stdout",
          "text": [
            "[15, 20, 180, 150, 80, 200]\n"
          ]
        }
      ]
    },
    {
      "cell_type": "code",
      "source": [
        "class Foodie:\n",
        "  def __init__(self, name):\n",
        "    self.name = name\n",
        "    self.items = []\n",
        "    self.total_spent = 0\n",
        "    self.tips = 0\n",
        "\n",
        "  def order(self, *args):\n",
        "    global menu\n",
        "    for i in args:\n",
        "      item, quantity = i.split('-')\n",
        "      quantity = int(quantity)\n",
        "      price = menu[item]\n",
        "      total_price = price * quantity\n",
        "      self.items.append(item)\n",
        "      self.total_spent += total_price\n",
        "      print(f\"Ordered - {item}, quantity - {quantity}, price (per Unit) - {price}. \\nTotal price - {total_price}\")\n",
        "\n",
        "  def pay_tips(self, amount=0):\n",
        "      self.tips = amount\n",
        "      if amount > 0:\n",
        "        print(f\"Gives {amount}/- tips to the waiter.\")\n",
        "      else:\n",
        "        print(\"No tips to the waiter.\")\n",
        "\n",
        "  def show_orders(self):\n",
        "    result = f\"{self.name} has {len(self.items)} item(s) in the cart.\\n\"\n",
        "    result += f\"Items: {self.items}\\n\"\n",
        "    result += f\"Total spent: {self.total_spent + self.tips}.\"\n",
        "    return result\n",
        "\n",
        "menu = {'Chicken Lollipop':15,'Beef Nugget':20,'Americano':180,'Red Velvet':150,'Prawn Tempura':80,'Saute Veg':200}\n",
        "\n",
        "\n",
        "f1 = Foodie('Frodo')\n",
        "print(f1.show_orders())\n",
        "print('1----------------------')\n",
        "f1.order('Chicken Lollipop-3','Beef Nugget-6','Americano-1')\n",
        "print('2----------------------')\n",
        "print(f1.show_orders())\n",
        "print('3----------------------')\n",
        "f1.order('Red Velvet-1')\n",
        "print('4----------------------')\n",
        "f1.pay_tips(20)\n",
        "print('5----------------------')\n",
        "print(f1.show_orders())\n",
        "f2 = Foodie('Bilbo')\n",
        "print('6----------------------')\n",
        "f2.order('Prawn Tempura-6','Saute Veg-1')\n",
        "print('7----------------------')\n",
        "f2.pay_tips()\n",
        "print('8----------------------')\n",
        "print(f2.show_orders())\n"
      ],
      "metadata": {
        "colab": {
          "base_uri": "https://localhost:8080/"
        },
        "id": "uRpUY961tsxj",
        "outputId": "ef55bc8d-295b-4ab5-b43c-0edbe362f0f1"
      },
      "execution_count": null,
      "outputs": [
        {
          "output_type": "stream",
          "name": "stdout",
          "text": [
            "Frodo has 0 item(s) in the cart.\n",
            "Items: []\n",
            "Total spent: 0.\n",
            "1----------------------\n",
            "Ordered - Chicken Lollipop, quantity - 3, price (per Unit) - 15. \n",
            "Total price - 45\n",
            "Ordered - Beef Nugget, quantity - 6, price (per Unit) - 20. \n",
            "Total price - 120\n",
            "Ordered - Americano, quantity - 1, price (per Unit) - 180. \n",
            "Total price - 180\n",
            "2----------------------\n",
            "Frodo has 3 item(s) in the cart.\n",
            "Items: ['Chicken Lollipop', 'Beef Nugget', 'Americano']\n",
            "Total spent: 345.\n",
            "3----------------------\n",
            "Ordered - Red Velvet, quantity - 1, price (per Unit) - 150. \n",
            "Total price - 150\n",
            "4----------------------\n",
            "Gives 20/- tips to the waiter.\n",
            "5----------------------\n",
            "Frodo has 4 item(s) in the cart.\n",
            "Items: ['Chicken Lollipop', 'Beef Nugget', 'Americano', 'Red Velvet']\n",
            "Total spent: 515.\n",
            "6----------------------\n",
            "Ordered - Prawn Tempura, quantity - 6, price (per Unit) - 80. \n",
            "Total price - 480\n",
            "Ordered - Saute Veg, quantity - 1, price (per Unit) - 200. \n",
            "Total price - 200\n",
            "7----------------------\n",
            "No tips to the waiter.\n",
            "8----------------------\n",
            "Bilbo has 2 item(s) in the cart.\n",
            "Items: ['Prawn Tempura', 'Saute Veg']\n",
            "Total spent: 680.\n"
          ]
        }
      ]
    },
    {
      "cell_type": "code",
      "source": [
        "class Department:\n",
        "  def __init__(self,dept = \"ChE\",sec = 5):\n",
        "    self.dept = dept\n",
        "    self.sec = sec\n",
        "    self.count = 0\n",
        "    self.average = 0\n",
        "    self.total_students = 0\n",
        "    print(f'The {self.dept} Department has {self.sec} sections.')\n",
        "  def add_students(self,*args):\n",
        "    for i in args:\n",
        "      self.count+=1\n",
        "      self.total_students+=i\n",
        "    if self.count==3:\n",
        "      print(f\"The {self.dept} Department doesn't have 3 sections.\")\n",
        "    else:\n",
        "      self.average = (self.total_students/self.count)\n",
        "      print(f\"The {self.dept} Department has an average of\\n{self.average} students in each section.\")\n",
        "\n",
        "\n",
        "d1 = Department()\n",
        "print('1-----------------------------')\n",
        "d2 = Department('MME Department')\n",
        "print('2-----------------------------')\n",
        "d3 = Department('NCE Department', 8)\n",
        "print('3-----------------------------')\n",
        "d1.add_students(12, 23, 12, 34, 21)\n",
        "print('4-----------------------------')\n",
        "d2.add_students(40, 30, 21)\n",
        "print('5-----------------------------')\n",
        "d3.add_students(12, 34, 41, 17, 30, 22, 32, 51)\n",
        "\n",
        "print('6-----------------------------')\n",
        "mega = Department('Engineering Department', 10)\n",
        "print('7-----------------------------')\n",
        "mega.add_students(21,30,40,36,10,32,27,51,45,15)\n",
        "# print('8-----------------------------')\n",
        "# print(mega.merge_Department(d1, d2))\n",
        "# print('9-----------------------------')\n",
        "# print(mega.merge_Department(d3))"
      ],
      "metadata": {
        "colab": {
          "base_uri": "https://localhost:8080/"
        },
        "id": "ddrkmikADlZK",
        "outputId": "6157b248-97b0-4338-9f82-d1b4e1d156ff"
      },
      "execution_count": null,
      "outputs": [
        {
          "output_type": "stream",
          "name": "stdout",
          "text": [
            "The ChE Department has 5 sections.\n",
            "1-----------------------------\n",
            "The MME Department Department has 5 sections.\n",
            "2-----------------------------\n",
            "The NCE Department Department has 8 sections.\n",
            "3-----------------------------\n",
            "The ChE Department has an average of\n",
            "20.4 students in each section.\n",
            "4-----------------------------\n",
            "The MME Department Department doesn't have 3 sections.\n",
            "5-----------------------------\n",
            "The NCE Department Department has an average of\n",
            "29.875 students in each section.\n",
            "6-----------------------------\n",
            "The Engineering Department Department has 10 sections.\n",
            "7-----------------------------\n",
            "The Engineering Department Department has an average of\n",
            "30.7 students in each section.\n"
          ]
        }
      ]
    },
    {
      "cell_type": "code",
      "source": [
        "class Department:\n",
        "  def __init__(self, dept = \"ChE\", sec = 5):\n",
        "    self.dept = dept\n",
        "    self.sec = sec\n",
        "    self.count = 0\n",
        "    self.average = 0\n",
        "    self.total_students = 0\n",
        "    print(f'The {self.dept} Department has {self.sec} sections.')\n",
        "\n",
        "  def add_students(self,*args):\n",
        "    for i in args:\n",
        "      self.count+=1\n",
        "      self.total_students+=i\n",
        "    if self.count==3:\n",
        "      print(f\"The {self.dept} Department doesn't have 3 sections.\")\n",
        "    else:\n",
        "      self.average = (self.total_students/self.count)\n",
        "      print(f\"The {self.dept} Department has an average of\\n{self.average} students in each section.\")\n",
        "\n",
        "  def merge_Department(self, *args):\n",
        "    self.total_students = self.average * self.sec\n",
        "    for j in args:\n",
        "        print(f\"{j.dept} is merged to {self.dept}.\")\n",
        "        self.total_students += j.average * j.sec\n",
        "        self.sec += j.sec\n",
        "    self.average = self.total_students / self.sec\n",
        "    return (f\"Now the {self.dept} has an average of {self.average} students in each section.\")\n",
        "d1 = Department()\n",
        "print('1-----------------------------')\n",
        "d2 = Department('MME Department')\n",
        "print('2-----------------------------')\n",
        "d3 = Department('NCE Department', 8)\n",
        "print('3-----------------------------')\n",
        "d1.add_students(12, 23, 12, 34, 21)\n",
        "print('4-----------------------------')\n",
        "d2.add_students(40, 30, 21)\n",
        "print('5-----------------------------')\n",
        "d3.add_students(12, 34, 41, 17, 30, 22, 32, 51)\n",
        "\n",
        "print('6-----------------------------')\n",
        "mega = Department('Engineering Department', 10)\n",
        "print('7-----------------------------')\n",
        "mega.add_students(21,30,40,36,10,32,27,51,45,15)\n",
        "print('8-----------------------------')\n",
        "print(mega.merge_Department(d1, d2))\n",
        "print('9-----------------------------')\n",
        "print(mega.merge_Department(d3))"
      ],
      "metadata": {
        "colab": {
          "base_uri": "https://localhost:8080/"
        },
        "id": "oLLT55CmF8pE",
        "outputId": "5310a71d-d6a9-4444-dcb4-52ee476c0cf5"
      },
      "execution_count": null,
      "outputs": [
        {
          "output_type": "stream",
          "name": "stdout",
          "text": [
            "The ChE Department has 5 sections.\n",
            "1-----------------------------\n",
            "The MME Department Department has 5 sections.\n",
            "2-----------------------------\n",
            "The NCE Department Department has 8 sections.\n",
            "3-----------------------------\n",
            "The ChE Department has an average of\n",
            "20.4 students in each section.\n",
            "4-----------------------------\n",
            "The MME Department Department doesn't have 3 sections.\n",
            "5-----------------------------\n",
            "The NCE Department Department has an average of\n",
            "29.875 students in each section.\n",
            "6-----------------------------\n",
            "The Engineering Department Department has 10 sections.\n",
            "7-----------------------------\n",
            "The Engineering Department Department has an average of\n",
            "30.7 students in each section.\n",
            "8-----------------------------\n",
            "ChE is merged to Engineering Department.\n",
            "MME Department is merged to Engineering Department.\n",
            "Now the Engineering Department has an average of 20.45 students in each section.\n",
            "9-----------------------------\n",
            "NCE Department is merged to Engineering Department.\n",
            "Now the Engineering Department has an average of 23.142857142857142 students in each section.\n"
          ]
        }
      ]
    },
    {
      "cell_type": "code",
      "source": [
        "class Shopidify:\n",
        "  def __init__(self,name=None):\n",
        "    self.name = name\n",
        "    self.dic  = {}\n",
        "    if self.name ==None:\n",
        "      print(\"Welcome to Shopidify\")\n",
        "    else:\n",
        "      print(f\"Welcome {self.name} to Shopidify\")\n",
        "  def add_to_cart(self,*args):\n",
        "    for key, value in args:\n",
        "      self.dic[key] = value\n",
        "    print(self.dic)\n",
        "guest_account = Shopidify()\n",
        "print(\"1xxxxxxxxxxxxxxxxxxxxxxxxxxxxxxxxx\")\n",
        "john_account = Shopidify(\"John\")\n",
        "print(\"2xxxxxxxxxxxxxxxxxxxxxxxxxxxxxxxxx\")\n",
        "guest_account.add_to_cart(\"Air Jordan\", 2)\n",
        "# guest_account.add_to_cart(\"Luffy Action Figure\")\n",
        "# guest_account.display_cart()\n",
        "# print(\"3xxxxxxxxxxxxxxxxxxxxxxxxxxxxxxxxx\")\n",
        "# john_account.add_to_cart([\"Chocolate Chip Cookies\", 3,\"Goku Action Figure\",2,\"Dumbbells-5kg\",2])\n",
        "# john_account.display_cart()\n",
        "# print(\"4xxxxxxxxxxxxxxxxxxxxxxxxxxxxxxxxx\")\n",
        "# guest_account.add_to_cart(\"Air Jordan\")\n",
        "# guest_account.display_cart()\n",
        "# print(\"5xxxxxxxxxxxxxxxxxxxxxxxxxxxxxxxxx\")\n",
        "# guest_account.checkout()\n",
        "# print(\"6xxxxxxxxxxxxxxxxxxxxxxxxxxxxxxxxx\")\n",
        "# guest_account.display_history()\n",
        "# print(\"7xxxxxxxxxxxxxxxxxxxxxxxxxxxxxxxxx\")\n",
        "# john_account.checkout()\n",
        "# print(\"8xxxxxxxxxxxxxxxxxxxxxxxxxxxxxxxxx\")\n",
        "# john_account.display_history()\n",
        "# print(\"9xxxxxxxxxxxxxxxxxxxxxxxxxxxxxxxx\")"
      ],
      "metadata": {
        "colab": {
          "base_uri": "https://localhost:8080/",
          "height": 436
        },
        "id": "0Im8hkLmHsvk",
        "outputId": "eaa2f9f3-24cd-4cb2-ac77-9adf2dbea9cc"
      },
      "execution_count": null,
      "outputs": [
        {
          "output_type": "stream",
          "name": "stdout",
          "text": [
            "Welcome to Shopidify\n",
            "1xxxxxxxxxxxxxxxxxxxxxxxxxxxxxxxxx\n",
            "Welcome John to Shopidify\n",
            "2xxxxxxxxxxxxxxxxxxxxxxxxxxxxxxxxx\n"
          ]
        },
        {
          "output_type": "error",
          "ename": "ValueError",
          "evalue": "ignored",
          "traceback": [
            "\u001b[0;31m---------------------------------------------------------------------------\u001b[0m",
            "\u001b[0;31mValueError\u001b[0m                                Traceback (most recent call last)",
            "\u001b[0;32m<ipython-input-36-8477f322f6ab>\u001b[0m in \u001b[0;36m<cell line: 17>\u001b[0;34m()\u001b[0m\n\u001b[1;32m     15\u001b[0m \u001b[0mjohn_account\u001b[0m \u001b[0;34m=\u001b[0m \u001b[0mShopidify\u001b[0m\u001b[0;34m(\u001b[0m\u001b[0;34m\"John\"\u001b[0m\u001b[0;34m)\u001b[0m\u001b[0;34m\u001b[0m\u001b[0;34m\u001b[0m\u001b[0m\n\u001b[1;32m     16\u001b[0m \u001b[0mprint\u001b[0m\u001b[0;34m(\u001b[0m\u001b[0;34m\"2xxxxxxxxxxxxxxxxxxxxxxxxxxxxxxxxx\"\u001b[0m\u001b[0;34m)\u001b[0m\u001b[0;34m\u001b[0m\u001b[0;34m\u001b[0m\u001b[0m\n\u001b[0;32m---> 17\u001b[0;31m \u001b[0mguest_account\u001b[0m\u001b[0;34m.\u001b[0m\u001b[0madd_to_cart\u001b[0m\u001b[0;34m(\u001b[0m\u001b[0;34m\"Air Jordan\"\u001b[0m\u001b[0;34m,\u001b[0m \u001b[0;36m2\u001b[0m\u001b[0;34m)\u001b[0m\u001b[0;34m\u001b[0m\u001b[0;34m\u001b[0m\u001b[0m\n\u001b[0m\u001b[1;32m     18\u001b[0m \u001b[0;31m# guest_account.add_to_cart(\"Luffy Action Figure\")\u001b[0m\u001b[0;34m\u001b[0m\u001b[0;34m\u001b[0m\u001b[0m\n\u001b[1;32m     19\u001b[0m \u001b[0;31m# guest_account.display_cart()\u001b[0m\u001b[0;34m\u001b[0m\u001b[0;34m\u001b[0m\u001b[0m\n",
            "\u001b[0;32m<ipython-input-36-8477f322f6ab>\u001b[0m in \u001b[0;36madd_to_cart\u001b[0;34m(self, *args)\u001b[0m\n\u001b[1;32m      8\u001b[0m       \u001b[0mprint\u001b[0m\u001b[0;34m(\u001b[0m\u001b[0;34mf\"Welcome {self.name} to Shopidify\"\u001b[0m\u001b[0;34m)\u001b[0m\u001b[0;34m\u001b[0m\u001b[0;34m\u001b[0m\u001b[0m\n\u001b[1;32m      9\u001b[0m   \u001b[0;32mdef\u001b[0m \u001b[0madd_to_cart\u001b[0m\u001b[0;34m(\u001b[0m\u001b[0mself\u001b[0m\u001b[0;34m,\u001b[0m\u001b[0;34m*\u001b[0m\u001b[0margs\u001b[0m\u001b[0;34m)\u001b[0m\u001b[0;34m:\u001b[0m\u001b[0;34m\u001b[0m\u001b[0;34m\u001b[0m\u001b[0m\n\u001b[0;32m---> 10\u001b[0;31m     \u001b[0;32mfor\u001b[0m \u001b[0mkey\u001b[0m\u001b[0;34m,\u001b[0m \u001b[0mvalue\u001b[0m \u001b[0;32min\u001b[0m \u001b[0margs\u001b[0m\u001b[0;34m:\u001b[0m\u001b[0;34m\u001b[0m\u001b[0;34m\u001b[0m\u001b[0m\n\u001b[0m\u001b[1;32m     11\u001b[0m       \u001b[0mself\u001b[0m\u001b[0;34m.\u001b[0m\u001b[0mdic\u001b[0m\u001b[0;34m[\u001b[0m\u001b[0mkey\u001b[0m\u001b[0;34m]\u001b[0m \u001b[0;34m+=\u001b[0m \u001b[0mvalue\u001b[0m\u001b[0;34m\u001b[0m\u001b[0;34m\u001b[0m\u001b[0m\n\u001b[1;32m     12\u001b[0m     \u001b[0mprint\u001b[0m\u001b[0;34m(\u001b[0m\u001b[0mself\u001b[0m\u001b[0;34m.\u001b[0m\u001b[0mdic\u001b[0m\u001b[0;34m)\u001b[0m\u001b[0;34m\u001b[0m\u001b[0;34m\u001b[0m\u001b[0m\n",
            "\u001b[0;31mValueError\u001b[0m: too many values to unpack (expected 2)"
          ]
        }
      ]
    },
    {
      "cell_type": "code",
      "source": [
        "class Shopidify:\n",
        "  def __init__(self, name=None):\n",
        "    if name is None:\n",
        "      self.name = \"Guest\"\n",
        "      print(\"Welcome to Shopidify\")\n",
        "    else:\n",
        "      self.name = name\n",
        "      print(f\"Welcome {self.name} to Shopidify\")\n",
        "    self.cart = {}\n",
        "    self.history = {}\n",
        "\n",
        "  def add_to_cart(self, *args):\n",
        "    if len(args) == 1 and isinstance(args[0], list):\n",
        "      items = args[0]\n",
        "      for i in range(0, len(items), 2):\n",
        "        item = items[i]\n",
        "        quantity = items[i+1]\n",
        "        self.cart[item] = quantity\n",
        "    elif len(args) == 1 or len(args) == 2:\n",
        "        item = args[0]\n",
        "        if len(args) == 2:\n",
        "            quantity = args[1]\n",
        "        else:\n",
        "            quantity = 1\n",
        "        self.cart[item] = quantity\n",
        "\n",
        "  def display_cart(self):\n",
        "      print(f\"Items in the cart for {self.name}:\")\n",
        "      for item, quantity in self.cart.items():\n",
        "          print(f\"- {item}: {quantity}x\")\n",
        "\n",
        "  def checkout(self):\n",
        "      print(f\"Checkout completed for {self.name}\")\n",
        "      self.history[f\"Transaction {len(self.history) + 1}\"] = self.cart.copy()\n",
        "      self.cart.clear()\n",
        "\n",
        "  def display_history(self):\n",
        "      print(f\"Purchase history for {self.name}:\")\n",
        "      for transaction, items in self.history.items():\n",
        "          print(transaction + \":\")\n",
        "          for item, quantity in items.items():\n",
        "              print(f\"- {item}: {quantity}x\")\n",
        "guest_account = Shopidify()\n",
        "print(\"1xxxxxxxxxxxxxxxxxxxxxxxxxxxxxxxxx\")\n",
        "john_account = Shopidify(\"John\")\n",
        "print(\"2xxxxxxxxxxxxxxxxxxxxxxxxxxxxxxxxx\")\n",
        "guest_account.add_to_cart(\"Air Jordan\", 2)\n",
        "guest_account.add_to_cart(\"Luffy Action Figure\")\n",
        "guest_account.display_cart()\n",
        "print(\"3xxxxxxxxxxxxxxxxxxxxxxxxxxxxxxxxx\")\n",
        "john_account.add_to_cart([\"Chocolate Chip Cookies\", 3,\"Goku Action Figure\",2,\"Dumbbells-5kg\",2])\n",
        "john_account.display_cart()\n",
        "print(\"4xxxxxxxxxxxxxxxxxxxxxxxxxxxxxxxxx\")\n",
        "guest_account.add_to_cart(\"Air Jordan\")\n",
        "guest_account.display_cart()\n",
        "print(\"5xxxxxxxxxxxxxxxxxxxxxxxxxxxxxxxxx\")\n",
        "guest_account.checkout()\n",
        "print(\"6xxxxxxxxxxxxxxxxxxxxxxxxxxxxxxxxx\")\n",
        "guest_account.display_history()\n",
        "print(\"7xxxxxxxxxxxxxxxxxxxxxxxxxxxxxxxxx\")\n",
        "john_account.checkout()\n",
        "print(\"8xxxxxxxxxxxxxxxxxxxxxxxxxxxxxxxxx\")\n",
        "john_account.display_history()\n",
        "print(\"9xxxxxxxxxxxxxxxxxxxxxxxxxxxxxxxx\")"
      ],
      "metadata": {
        "colab": {
          "base_uri": "https://localhost:8080/"
        },
        "id": "ImPUJxMbSX9g",
        "outputId": "f3957682-0097-4de7-df0e-7013a6070624"
      },
      "execution_count": null,
      "outputs": [
        {
          "output_type": "stream",
          "name": "stdout",
          "text": [
            "Welcome to Shopidify\n",
            "1xxxxxxxxxxxxxxxxxxxxxxxxxxxxxxxxx\n",
            "Welcome John to Shopidify\n",
            "2xxxxxxxxxxxxxxxxxxxxxxxxxxxxxxxxx\n",
            "Items in the cart for Guest:\n",
            "- Air Jordan: 2x\n",
            "- Luffy Action Figure: 1x\n",
            "3xxxxxxxxxxxxxxxxxxxxxxxxxxxxxxxxx\n",
            "Items in the cart for John:\n",
            "- Chocolate Chip Cookies: 3x\n",
            "- Goku Action Figure: 2x\n",
            "- Dumbbells-5kg: 2x\n",
            "4xxxxxxxxxxxxxxxxxxxxxxxxxxxxxxxxx\n",
            "Items in the cart for Guest:\n",
            "- Air Jordan: 1x\n",
            "- Luffy Action Figure: 1x\n",
            "5xxxxxxxxxxxxxxxxxxxxxxxxxxxxxxxxx\n",
            "Checkout completed for Guest\n",
            "6xxxxxxxxxxxxxxxxxxxxxxxxxxxxxxxxx\n",
            "Purchase history for Guest:\n",
            "Transaction 1:\n",
            "- Air Jordan: 1x\n",
            "- Luffy Action Figure: 1x\n",
            "7xxxxxxxxxxxxxxxxxxxxxxxxxxxxxxxxx\n",
            "Checkout completed for John\n",
            "8xxxxxxxxxxxxxxxxxxxxxxxxxxxxxxxxx\n",
            "Purchase history for John:\n",
            "Transaction 1:\n",
            "- Chocolate Chip Cookies: 3x\n",
            "- Goku Action Figure: 2x\n",
            "- Dumbbells-5kg: 2x\n",
            "9xxxxxxxxxxxxxxxxxxxxxxxxxxxxxxxx\n"
          ]
        }
      ]
    },
    {
      "cell_type": "code",
      "source": [
        "class Author:\n",
        "  def __init__(self,name=None):\n",
        "    self.name = name\n",
        "    if self.name == None:\n",
        "      print(\"A book can not be added without author\\nname\")\n",
        "    else:\n",
        "      pass\n",
        "    self.number = 0\n",
        "  def setName(self,name):\n",
        "    print(\"Author Name:\",name)\n",
        "\n",
        "  def addBook(self,book,category):\n",
        "    self.number+=1\n",
        "    self.book = book\n",
        "    self.category = category\n",
        "    print(f\"Number of Book(s):{self.number}\")\n",
        "    print(f'{self.category}:{self.book}')\n",
        "\n",
        "a1 = Author()\n",
        "print(\"=================================\")\n",
        "a1.addBook(\"Ice\", \"Science Fiction\")\n",
        "print(\"=================================\")\n",
        "a1.setName(\"Anna Kavan\")\n",
        "a1.addBook(\"Ice\", \"Science Fiction\")\n",
        "# a1.printDetail()\n",
        "# print(\"=================================\")\n",
        "# a2 = Author(\"Humayun Ahmed\")\n",
        "# a2.addBook(\"Onnobhubon\", \"Science Fiction\")\n",
        "# a2.addBook(\"Megher Upor Bari\", \"Horror\")\n",
        "# print(\"=================================\")\n",
        "# a2.printDetail()\n",
        "# a2.addBook(\"Ireena\", \"Science Fiction\")\n",
        "# print(\"=================================\")\n",
        "# a2.printDetail()\n",
        "# print(\"=================================\")\n",
        "\n"
      ],
      "metadata": {
        "colab": {
          "base_uri": "https://localhost:8080/"
        },
        "id": "86McayIpb9YS",
        "outputId": "b890ff6a-adf3-4ace-a8da-8c33ef72bfd9"
      },
      "execution_count": null,
      "outputs": [
        {
          "output_type": "stream",
          "name": "stdout",
          "text": [
            "A book can not be added without author\n",
            "name\n",
            "=================================\n",
            "Number of Book(s):1\n",
            "Science Fiction:Ice\n",
            "=================================\n",
            "Author Name: Anna Kavan\n",
            "Number of Book(s):2\n",
            "Science Fiction:Ice\n"
          ]
        }
      ]
    },
    {
      "cell_type": "code",
      "source": [
        "class Author:\n",
        "  def __init__(self, name=None):\n",
        "    self.name = name\n",
        "    self.books = {}\n",
        "\n",
        "  def setName(self, name):\n",
        "    self.name = name\n",
        "\n",
        "  def addBook(self, book, genre):\n",
        "    if self.name is None:\n",
        "      print(\"A book cannot be added without author name\")\n",
        "\n",
        "    if genre in self.books:\n",
        "      if book not in self.books[genre]:\n",
        "        self.books[genre].append(book)\n",
        "    else:\n",
        "        self.books[genre] = [book]\n",
        "\n",
        "  def printDetail(self):\n",
        "    print(\"Number of Book(s):\", sum(len(v) for v in self.books.values()))\n",
        "    print(\"Author Name:\", self.name)\n",
        "    for genre, books in self.books.items():\n",
        "      print(genre + \":\", \", \".join(books))\n",
        "\n",
        "a1 = Author()\n",
        "print(\"=================================\")\n",
        "a1.addBook(\"Ice\", \"Science Fiction\")\n",
        "print(\"=================================\")\n",
        "a1.setName(\"Anna Kavan\")\n",
        "a1.addBook(\"Ice\", \"Science Fiction\")\n",
        "a1.printDetail()\n",
        "print(\"=================================\")\n",
        "a2 = Author(\"Humayun Ahmed\")\n",
        "a2.addBook(\"Onnobhubon\", \"Science Fiction\")\n",
        "a2.addBook(\"Megher Upor Bari\", \"Horror\")\n",
        "print(\"=================================\")\n",
        "a2.printDetail()\n",
        "a2.addBook(\"Ireena\", \"Science Fiction\")\n",
        "print(\"=================================\")\n",
        "a2.printDetail()\n",
        "print(\"=================================\")\n"
      ],
      "metadata": {
        "colab": {
          "base_uri": "https://localhost:8080/"
        },
        "id": "HeqR7fuPWcT5",
        "outputId": "4328cc4e-2916-4690-f57c-844c75f4b1f3"
      },
      "execution_count": null,
      "outputs": [
        {
          "output_type": "stream",
          "name": "stdout",
          "text": [
            "=================================\n",
            "A book cannot be added without author name\n",
            "=================================\n",
            "Number of Book(s): 1\n",
            "Author Name: Anna Kavan\n",
            "Science Fiction: Ice\n",
            "=================================\n",
            "=================================\n",
            "Number of Book(s): 2\n",
            "Author Name: Humayun Ahmed\n",
            "Science Fiction: Onnobhubon\n",
            "Horror: Megher Upor Bari\n",
            "=================================\n",
            "Number of Book(s): 3\n",
            "Author Name: Humayun Ahmed\n",
            "Science Fiction: Onnobhubon, Ireena\n",
            "Horror: Megher Upor Bari\n",
            "=================================\n"
          ]
        }
      ]
    },
    {
      "cell_type": "code",
      "source": [
        "my_tuple = (\"Air Jordan\",2)\n",
        "dic ={}\n",
        "for i in range(len(my_tuple)):\n",
        "  dic[my_tuple][i] = my_tuple[i+1]\n",
        "print(dic)"
      ],
      "metadata": {
        "colab": {
          "base_uri": "https://localhost:8080/",
          "height": 227
        },
        "id": "VWNwc4JcgsT5",
        "outputId": "0ae6013e-80ec-436b-c351-1c15a778b480"
      },
      "execution_count": null,
      "outputs": [
        {
          "output_type": "error",
          "ename": "KeyError",
          "evalue": "ignored",
          "traceback": [
            "\u001b[0;31m---------------------------------------------------------------------------\u001b[0m",
            "\u001b[0;31mKeyError\u001b[0m                                  Traceback (most recent call last)",
            "\u001b[0;32m<ipython-input-38-6c33242ba3d5>\u001b[0m in \u001b[0;36m<cell line: 3>\u001b[0;34m()\u001b[0m\n\u001b[1;32m      2\u001b[0m \u001b[0mdic\u001b[0m \u001b[0;34m=\u001b[0m\u001b[0;34m{\u001b[0m\u001b[0;34m}\u001b[0m\u001b[0;34m\u001b[0m\u001b[0;34m\u001b[0m\u001b[0m\n\u001b[1;32m      3\u001b[0m \u001b[0;32mfor\u001b[0m \u001b[0mi\u001b[0m \u001b[0;32min\u001b[0m \u001b[0mrange\u001b[0m\u001b[0;34m(\u001b[0m\u001b[0mlen\u001b[0m\u001b[0;34m(\u001b[0m\u001b[0mmy_tuple\u001b[0m\u001b[0;34m)\u001b[0m\u001b[0;34m)\u001b[0m\u001b[0;34m:\u001b[0m\u001b[0;34m\u001b[0m\u001b[0;34m\u001b[0m\u001b[0m\n\u001b[0;32m----> 4\u001b[0;31m   \u001b[0mdic\u001b[0m\u001b[0;34m[\u001b[0m\u001b[0mmy_tuple\u001b[0m\u001b[0;34m]\u001b[0m\u001b[0;34m[\u001b[0m\u001b[0mi\u001b[0m\u001b[0;34m]\u001b[0m \u001b[0;34m=\u001b[0m \u001b[0mmy_tuple\u001b[0m\u001b[0;34m[\u001b[0m\u001b[0mi\u001b[0m\u001b[0;34m+\u001b[0m\u001b[0;36m1\u001b[0m\u001b[0;34m]\u001b[0m\u001b[0;34m\u001b[0m\u001b[0;34m\u001b[0m\u001b[0m\n\u001b[0m\u001b[1;32m      5\u001b[0m \u001b[0mprint\u001b[0m\u001b[0;34m(\u001b[0m\u001b[0mdic\u001b[0m\u001b[0;34m)\u001b[0m\u001b[0;34m\u001b[0m\u001b[0;34m\u001b[0m\u001b[0m\n",
            "\u001b[0;31mKeyError\u001b[0m: ('Air Jordan', 2)"
          ]
        }
      ]
    },
    {
      "cell_type": "code",
      "source": [
        "class Lab4:\n",
        "    def __init__(self):\n",
        "        self.x = 3\n",
        "        self.y = 2\n",
        "        self.sum = 5\n",
        "    def methodA(self, x):\n",
        "        self.y = self.sum + self.x - x\n",
        "        self.sum = x - self.y\n",
        "        d = Lab4()\n",
        "        d.sum = self.sum + self.methodB(d)\n",
        "        print(self.x, self.y, self.sum)\n",
        "        return d\n",
        "    def methodB(self, t, z = 4):\n",
        "        y = 2\n",
        "        t.x = self.x + self.sum\n",
        "        y = y + t.x - t.y\n",
        "        self.sum = t.x + t.y + y - z\n",
        "        if z == 4:\n",
        "            return y\n",
        "        print(t.x, t.y, self.sum)\n",
        "        p = t.methodA(y)\n",
        "        print(t.x, self.y, p.sum)\n",
        "obj = Lab4()\n",
        "obj2 = obj.methodA(4)\n",
        "obj.methodB(obj2, 10)"
      ],
      "metadata": {
        "colab": {
          "base_uri": "https://localhost:8080/"
        },
        "id": "PQG3ga22X2BV",
        "outputId": "484be7d3-f45c-42e0-cfef-155abc8fea86"
      },
      "execution_count": null,
      "outputs": [
        {
          "output_type": "stream",
          "name": "stdout",
          "text": [
            "3 4 4\n",
            "7 2 6\n",
            "7 3 20\n",
            "7 4 15\n"
          ]
        }
      ]
    },
    {
      "cell_type": "code",
      "source": [
        "item =(5,)\n",
        "print(len(item))"
      ],
      "metadata": {
        "colab": {
          "base_uri": "https://localhost:8080/"
        },
        "id": "IvMYAGnuLflb",
        "outputId": "b77c78ee-c8fc-4928-8d61-a18e13c5e4d0"
      },
      "execution_count": null,
      "outputs": [
        {
          "output_type": "stream",
          "name": "stdout",
          "text": [
            "1\n"
          ]
        }
      ]
    },
    {
      "cell_type": "code",
      "source": [
        "class Test4:\n",
        "    def __init__(self):\n",
        "        self.sum, self.y = 0, 0\n",
        "    def methodA(self):\n",
        "        x, y = 0, 0\n",
        "        msg = [0]\n",
        "        msg[0] = 5\n",
        "        y = y + self.methodB(msg[0])\n",
        "        x = y + self.methodB(msg, msg[0])\n",
        "        self.sum = x + y + msg[0]\n",
        "        print(x, y, self.sum)\n",
        "    def methodB(self, *args):\n",
        "        if len(args) == 1:\n",
        "            mg1 = args[0]\n",
        "            x, y = 0, 0\n",
        "            y = y + mg1\n",
        "            x = x + 33 + mg1\n",
        "            self.sum = self.sum + x + y\n",
        "            self.y = mg1 + x + 2\n",
        "            print(x, y, self.sum)\n",
        "            return y\n",
        "        else:\n",
        "            mg2, mg1 = args\n",
        "            x = 0\n",
        "            self.y = self.y + mg2[0]\n",
        "            x = x + 33 + mg1\n",
        "            self.sum = self.sum + x + self.y\n",
        "            mg2[0] = self.y + mg1\n",
        "            mg1 = mg1 + x + 2\n",
        "            print(x, self.y, self.sum)\n",
        "            return self.sum\n",
        "\n",
        "t3 = Test4()\n",
        "t3.methodA()\n",
        "t3.methodA()\n",
        "t3.methodA()\n",
        "t3.methodA()\n"
      ],
      "metadata": {
        "colab": {
          "base_uri": "https://localhost:8080/"
        },
        "id": "3X7AO2bkzaEF",
        "outputId": "ef8e182c-51f2-484f-9963-755abf23cff8"
      },
      "execution_count": null,
      "outputs": [
        {
          "output_type": "stream",
          "name": "stdout",
          "text": [
            "38 5 43\n",
            "38 50 131\n",
            "136 5 196\n",
            "38 5 239\n",
            "38 50 327\n",
            "332 5 392\n",
            "38 5 435\n",
            "38 50 523\n",
            "528 5 588\n",
            "38 5 631\n",
            "38 50 719\n",
            "724 5 784\n"
          ]
        }
      ]
    },
    {
      "cell_type": "code",
      "source": [
        "class Lab4:\n",
        "    def __init__(self):\n",
        "        self.x = 3\n",
        "        self.y = 2\n",
        "        self.sum = 5\n",
        "    def methodA(self, x):\n",
        "        self.y = self.sum + self.x - x\n",
        "        self.sum = x - self.y\n",
        "        d = Lab4()\n",
        "        d.sum = self.sum + self.methodB(d)\n",
        "        print(self.x, self.y, self.sum)\n",
        "        return d\n",
        "    def methodB(self, t, z = 4):\n",
        "        y = 2\n",
        "        t.x = self.x + self.sum\n",
        "        y = y + t.x - t.y\n",
        "        self.sum = t.x + t.y + y - z\n",
        "        if z == 4:\n",
        "            return y\n",
        "        print(t.x, t.y, self.sum)\n",
        "        p = t.methodA(y)\n",
        "        print(t.x, self.y, p.sum)\n",
        "obj = Lab4()\n",
        "obj2 = obj.methodA(4)\n",
        "obj.methodB(obj2, 10)\n"
      ],
      "metadata": {
        "colab": {
          "base_uri": "https://localhost:8080/"
        },
        "id": "M-2QuBTlzl1l",
        "outputId": "587d65a2-6796-4fbf-8e94-461538faddf8"
      },
      "execution_count": null,
      "outputs": [
        {
          "output_type": "stream",
          "name": "stdout",
          "text": [
            "3 4 4\n",
            "7 2 6\n",
            "7 3 20\n",
            "7 4 15\n"
          ]
        }
      ]
    },
    {
      "cell_type": "code",
      "source": [
        "\n",
        "\n",
        "cm1 = CoffeeMachine(\"Miyako\")\n",
        "cm1.insertIngredients(\"Coffee beans\", \"Milk\", \"Sugar\")\n",
        "print(cm1.getDetails())"
      ],
      "metadata": {
        "id": "sJ3gNmhg78Sg"
      },
      "execution_count": null,
      "outputs": []
    }
  ]
}