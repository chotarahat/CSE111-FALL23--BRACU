{
  "nbformat": 4,
  "nbformat_minor": 0,
  "metadata": {
    "colab": {
      "provenance": []
    },
    "kernelspec": {
      "name": "python3",
      "display_name": "Python 3"
    },
    "language_info": {
      "name": "python"
    }
  },
  "cells": [
    {
      "cell_type": "code",
      "execution_count": null,
      "metadata": {
        "id": "wnpAWy1Uvnx5",
        "colab": {
          "base_uri": "https://localhost:8080/"
        },
        "outputId": "d87cd371-8c8b-4c99-e480-565b07269535"
      },
      "outputs": [
        {
          "output_type": "stream",
          "name": "stdout",
          "text": [
            "Enter height(cm): 175\n",
            "Enter weight: 96\n",
            "Score is 31.3. You are Obese\n"
          ]
        }
      ],
      "source": [
        "#Task 1\n",
        "def BMI(height,weight):\n",
        "  bmi=round(weight/((height/100)**2),1)\n",
        "  if bmi<18.5:\n",
        "    print(f'Score is {bmi}. You are Underweight')\n",
        "  elif 18.5<=bmi<=24.9:\n",
        "    print(f'Score is {bmi}. You are Normal')\n",
        "  elif 25<=bmi<=30:\n",
        "    print(f'Score is {bmi}. You are Overweight')\n",
        "  elif 30<bmi:\n",
        "    print(f'Score is {bmi}. You are Obese')\n",
        "height=float(input('Enter height(cm): '))\n",
        "weight=float(input('Enter weight: '))\n",
        "BMI(height,weight)"
      ]
    },
    {
      "cell_type": "code",
      "source": [
        "#task 2\n",
        "def OrderFood(burger,location='Mohakhali'):\n",
        "  menu={'BBQ Chicken Cheese Burger':250,'Beef Burger':170,\n",
        "        'Naga Drums':200}\n",
        "  if location=='Mohakhali':\n",
        "    price=menu[b[0]]+40+(menu[burger]*0.08)\n",
        "  else:\n",
        "    price=menu[b[0]]+60+(menu[burger]*0.08)\n",
        "  print(price)\n",
        "a=input()\n",
        "if ',' in a:\n",
        "  b=a.split(',')\n",
        "  burger=b[0]\n",
        "  location=b[1]\n",
        "  OrderFood(burger,location)\n",
        "else:\n",
        "  burger=a\n",
        "  OrderFood(burger)"
      ],
      "metadata": {
        "id": "2gNGP80Iv241",
        "colab": {
          "base_uri": "https://localhost:8080/",
          "height": 349
        },
        "outputId": "06edc9bc-2587-4429-cca2-4b7383779057"
      },
      "execution_count": null,
      "outputs": [
        {
          "name": "stdout",
          "output_type": "stream",
          "text": [
            "Beef Burger\n"
          ]
        },
        {
          "output_type": "error",
          "ename": "NameError",
          "evalue": "ignored",
          "traceback": [
            "\u001b[0;31m---------------------------------------------------------------------------\u001b[0m",
            "\u001b[0;31mNameError\u001b[0m                                 Traceback (most recent call last)",
            "\u001b[0;32m<ipython-input-2-51e4caa9e79e>\u001b[0m in \u001b[0;36m<cell line: 11>\u001b[0;34m()\u001b[0m\n\u001b[1;32m     16\u001b[0m \u001b[0;32melse\u001b[0m\u001b[0;34m:\u001b[0m\u001b[0;34m\u001b[0m\u001b[0;34m\u001b[0m\u001b[0m\n\u001b[1;32m     17\u001b[0m   \u001b[0mburger\u001b[0m\u001b[0;34m=\u001b[0m\u001b[0ma\u001b[0m\u001b[0;34m\u001b[0m\u001b[0;34m\u001b[0m\u001b[0m\n\u001b[0;32m---> 18\u001b[0;31m   \u001b[0mOrderFood\u001b[0m\u001b[0;34m(\u001b[0m\u001b[0mburger\u001b[0m\u001b[0;34m)\u001b[0m\u001b[0;34m\u001b[0m\u001b[0;34m\u001b[0m\u001b[0m\n\u001b[0m",
            "\u001b[0;32m<ipython-input-2-51e4caa9e79e>\u001b[0m in \u001b[0;36mOrderFood\u001b[0;34m(burger, location)\u001b[0m\n\u001b[1;32m      4\u001b[0m         'Naga Drums':200}\n\u001b[1;32m      5\u001b[0m   \u001b[0;32mif\u001b[0m \u001b[0mlocation\u001b[0m\u001b[0;34m==\u001b[0m\u001b[0;34m'Mohakhali'\u001b[0m\u001b[0;34m:\u001b[0m\u001b[0;34m\u001b[0m\u001b[0;34m\u001b[0m\u001b[0m\n\u001b[0;32m----> 6\u001b[0;31m     \u001b[0mprice\u001b[0m\u001b[0;34m=\u001b[0m\u001b[0mmenu\u001b[0m\u001b[0;34m[\u001b[0m\u001b[0mb\u001b[0m\u001b[0;34m[\u001b[0m\u001b[0;36m0\u001b[0m\u001b[0;34m]\u001b[0m\u001b[0;34m]\u001b[0m\u001b[0;34m+\u001b[0m\u001b[0;36m40\u001b[0m\u001b[0;34m+\u001b[0m\u001b[0;34m(\u001b[0m\u001b[0mmenu\u001b[0m\u001b[0;34m[\u001b[0m\u001b[0mburger\u001b[0m\u001b[0;34m]\u001b[0m\u001b[0;34m*\u001b[0m\u001b[0;36m0.08\u001b[0m\u001b[0;34m)\u001b[0m\u001b[0;34m\u001b[0m\u001b[0;34m\u001b[0m\u001b[0m\n\u001b[0m\u001b[1;32m      7\u001b[0m   \u001b[0;32melse\u001b[0m\u001b[0;34m:\u001b[0m\u001b[0;34m\u001b[0m\u001b[0;34m\u001b[0m\u001b[0m\n\u001b[1;32m      8\u001b[0m     \u001b[0mprice\u001b[0m\u001b[0;34m=\u001b[0m\u001b[0mmenu\u001b[0m\u001b[0;34m[\u001b[0m\u001b[0mb\u001b[0m\u001b[0;34m[\u001b[0m\u001b[0;36m0\u001b[0m\u001b[0;34m]\u001b[0m\u001b[0;34m]\u001b[0m\u001b[0;34m+\u001b[0m\u001b[0;36m60\u001b[0m\u001b[0;34m+\u001b[0m\u001b[0;34m(\u001b[0m\u001b[0mmenu\u001b[0m\u001b[0;34m[\u001b[0m\u001b[0mburger\u001b[0m\u001b[0;34m]\u001b[0m\u001b[0;34m*\u001b[0m\u001b[0;36m0.08\u001b[0m\u001b[0;34m)\u001b[0m\u001b[0;34m\u001b[0m\u001b[0;34m\u001b[0m\u001b[0m\n",
            "\u001b[0;31mNameError\u001b[0m: name 'b' is not defined"
          ]
        }
      ]
    },
    {
      "cell_type": "code",
      "source": [
        "def replace_domain(email, new_domain, old_domain=\"sheba.xyz\"):\n",
        "    email_list = list(email)\n",
        "    old_domain_list = list(old_domain)\n",
        "    new_domain_list = list(new_domain)\n",
        "    i = len(email_list) - 1\n",
        "    j = len(old_domain_list) - 1\n",
        "    while i >= 0 and j >= 0:\n",
        "        if email_list[i] != old_domain_list[j]:\n",
        "            return email\n",
        "        i -= 1\n",
        "        j -= 1\n",
        "    if j != -1:\n",
        "        return email\n",
        "    return \"\".join(email_list[:i+2] + new_domain_list)\n",
        "\n",
        "\n",
        "print(replace_domain(\"alice@kaaj.com\", \"sheba.xyz\",\"kaaj.com\")(\"bob@sheba.xyz\",\"sheba.xyz\"))\n",
        "#print(replace_domain(\"test@newdomain.com\", \"newdomain.com\"))"
      ],
      "metadata": {
        "id": "nxVbjaqFv30J"
      },
      "execution_count": null,
      "outputs": []
    },
    {
      "cell_type": "code",
      "source": [
        "#Task3**\n",
        "def replace_domain(a,b,c='sheba.xyz'):\n",
        "  lst2=a.split('@')\n",
        "  if lst2[1]!=b:\n",
        "    print(f'Changed: {lst2[0]}@{b}')\n",
        "  else:\n",
        "    print(f'Unchanged: {a}')\n",
        "\n",
        "inp=input()\n",
        "lst1=inp.split(',')\n",
        "if len(lst1)==3:\n",
        "  a=lst1[0]\n",
        "  b=lst1[1]\n",
        "  c=lst1[0]\n",
        "  replace_domain(a,b,c)\n",
        "elif len(lst1)==2:\n",
        "  a=lst1[0]\n",
        "  b=lst1[1]\n",
        "  replace_domain(a,b)"
      ],
      "metadata": {
        "colab": {
          "base_uri": "https://localhost:8080/"
        },
        "id": "t3yKjAUkzm86",
        "outputId": "dd55842c-ad03-464a-c982-2bbade578feb"
      },
      "execution_count": null,
      "outputs": [
        {
          "name": "stdout",
          "output_type": "stream",
          "text": [
            "('alice@kaaj.com','sheba.xyz','kaaj.com')('bob@sheba.xyz','sheba.xyz')\n"
          ]
        }
      ]
    },
    {
      "cell_type": "code",
      "source": [
        "#Task3**\n",
        "def replace_domain(a,b,c='sheba.xyz'):\n",
        "  lst2=a.split('@')\n",
        "  if lst2[1]!=b:\n",
        "    print(f'Changed: {lst2[0]}@{b}')\n",
        "  else:\n",
        "    print(f'Unchanged: {a}')\n",
        "\n",
        "inp=input()\n",
        "lst1=inp.split(',')\n",
        "if len(lst1)==3:\n",
        "  a=lst1[0]\n",
        "  b=lst1[1]\n",
        "  c=lst1[0]\n",
        "  replace_domain(a,b,c)\n",
        "elif len(lst1)==2:\n",
        "  a=lst1[0]\n",
        "  b=lst1[1]\n",
        "  replace_domain(a,b)"
      ],
      "metadata": {
        "id": "gLetUZgA4RPO",
        "outputId": "f950520a-0cc7-42f8-fc1b-a24607606e3b",
        "colab": {
          "base_uri": "https://localhost:8080/"
        }
      },
      "execution_count": null,
      "outputs": [
        {
          "output_type": "stream",
          "name": "stdout",
          "text": [
            "bob@sheba.xyz,sheba.xyz\n",
            "Unchanged: bob@sheba.xyz\n"
          ]
        }
      ]
    },
    {
      "cell_type": "code",
      "source": [
        "#Task4**\n",
        "def checkPal(a):\n",
        "    if a[0::1]==a[-1::-1]:\n",
        "        print('Palindrome')\n",
        "    else:\n",
        "        print('Not a palindrome')\n",
        "inp=input()\n",
        "a=''\n",
        "if ' ' in inp:\n",
        "   b=inp.index(' ')\n",
        "   a=inp[0:b:1]+inp[b+1::1]\n",
        "   checkPal(a)\n",
        "else:\n",
        "    a=inp\n",
        "    checkPal(a)"
      ],
      "metadata": {
        "colab": {
          "base_uri": "https://localhost:8080/"
        },
        "id": "Ij8DszvQybdz",
        "outputId": "1434c291-7a2a-4efd-dbc8-67d5d88aa639"
      },
      "execution_count": null,
      "outputs": [
        {
          "output_type": "stream",
          "name": "stdout",
          "text": [
            "nurses run\n",
            "Palindrome\n"
          ]
        }
      ]
    },
    {
      "cell_type": "code",
      "source": [
        "#Task 5\n",
        "def funcc(a):\n",
        "  print(f'{a//365} years, {(a%365)//30} months, {(a%365)%30} days')\n",
        "a=int(input())\n",
        "funcc(a)"
      ],
      "metadata": {
        "colab": {
          "base_uri": "https://localhost:8080/"
        },
        "id": "LEWXGlS5zI4k",
        "outputId": "55185222-de82-4e69-9c3c-4633beda159c"
      },
      "execution_count": null,
      "outputs": [
        {
          "output_type": "stream",
          "name": "stdout",
          "text": [
            "4000\n",
            "10 years, 11 months, 20 days\n"
          ]
        }
      ]
    },
    {
      "cell_type": "code",
      "source": [
        "def capitalize_text(text):\n",
        "    text = list(text)\n",
        "    text[0] = text[0].upper()\n",
        "    for i in range(1, len(text)):\n",
        "        if text[i-1] in {'.', '!', '?'} and text[i] != ' ':\n",
        "            text[i] = text[i].upper()\n",
        "        elif text[i-1] == ' ' and text[i] == 'i' and (i+1 == len(text) or text[i+1] == ' '):\n",
        "            text[i] = text[i].upper()\n",
        "    return ''.join(text)\n",
        "\n",
        "# Test the function\n",
        "text = \"my favourite animal is a dog.a dog has sharp teeth so that it can eat flesh very easily.do you know my pet dog's name? i love my pet very much.\"\n",
        "print(capitalize_text(text))\n"
      ],
      "metadata": {
        "colab": {
          "base_uri": "https://localhost:8080/"
        },
        "id": "eUhvdhZpzQ-J",
        "outputId": "82aeb469-bb0e-41f4-cf4c-4cf124de8c63"
      },
      "execution_count": null,
      "outputs": [
        {
          "output_type": "stream",
          "name": "stdout",
          "text": [
            "My favourite animal is a dog.A dog has sharp teeth so that it can eat flesh very easily.Do you know my pet dog's name? I love my pet very much.\n"
          ]
        }
      ]
    }
  ]
}